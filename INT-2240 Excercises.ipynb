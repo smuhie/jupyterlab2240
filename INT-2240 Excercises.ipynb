{
 "cells": [
  {
   "cell_type": "markdown",
   "id": "167dc322-322e-405a-a2f5-4efd998d8ee7",
   "metadata": {},
   "source": [
    "## INT-2240 Excercises for  Modules 1 to 4"
   ]
  },
  {
   "cell_type": "code",
   "execution_count": 1,
   "id": "90135793-6588-4d07-8e17-4a098f3a4f3f",
   "metadata": {},
   "outputs": [],
   "source": [
    "# 1. the + and * operators can be used on strings (str data type)\n",
    "'cat' * '2' \n",
    "# what do you expect if you carry out such operation (try to tell or guess what you will get before running it \n",
    "# and then run; does it match what you anticipated if not why?"
   ]
  },
  {
   "cell_type": "code",
   "execution_count": null,
   "id": "7527fffc-c503-4dac-8952-6e8ad1c26443",
   "metadata": {},
   "outputs": [],
   "source": [
    "# print the following (but before running the print function, try to see what you will get and then run)\n",
    "print(welcome!)"
   ]
  },
  {
   "cell_type": "code",
   "execution_count": null,
   "id": "07d8bf6c-a142-466f-8853-32915de6acc2",
   "metadata": {},
   "outputs": [],
   "source": [
    "# run this code and provide explaination about the output\n",
    "favorite_course == 'python'\n",
    "print(favorite_course)"
   ]
  },
  {
   "cell_type": "code",
   "execution_count": null,
   "id": "4641ff42-6ca0-4403-a9e8-51708a3d9cc3",
   "metadata": {},
   "outputs": [],
   "source": [
    "print(type(str(7.0))) # how many functions are used in this code? what is the output of the run?"
   ]
  },
  {
   "cell_type": "markdown",
   "id": "b05d5c26-b8d7-4704-b487-da7b055fc145",
   "metadata": {},
   "source": [
    "### True or False\n",
    "* Computational thinking is a way of thinking about problem solving.\n",
    "* Coding is the act of taking an algorithm and translating its steps into a programming language that can be executed on a computer.\n",
    "* To write code, you first have to break a problem down into a simple set of actions that solves the problem. We call this set of actions an algorithm, or less formally a recipe for solving a problem.\n",
    "* a count-controlled loop iterates a specific number of times.\n",
    "* Programming languages are special-purpose languages created expressly for describing tasks to computers.\n",
    "* English makes for a poor programming language because it is quite ambiguous.\n",
    "* New and experienced programmers appreciate Python’s clean and consistent design.\n",
    "* There are two versions of Python, 2 and 3, and this book focuses on Python 3 (although the differences are minor in a lot of cases).\n",
    "* Python code is executed by an interpreter, which translates high-level Python code into low-level machine code that your computer can execute directly.\n",
    "* You can use whitespace in a Python program to increase readability.\n",
    "* input and print are two functions provided by Python for simple, shell-based input and output.\n",
    "* The while loop is a condition controlled loop\n",
    "* Input validation is the process of inspecting data that has been input to a program, to make sure it is valid before it is used in a computation.\n",
    "* Decorators are useful when you need to add extra logic to existing functions without modifying them.\n",
    "* The index of the last element of my_list is len(my_list)-1.\n",
    "* Processing tuples is faster than processing lists (if all other conditions are the same)."
   ]
  },
  {
   "cell_type": "code",
   "execution_count": null,
   "id": "0fcc73b0-75db-4ef4-8112-e2309f6a5cbf",
   "metadata": {},
   "outputs": [],
   "source": [
    "# run this code and explain why you get the specific output.\n",
    "96/3*2-74+3**4%(2+5//3)"
   ]
  },
  {
   "cell_type": "code",
   "execution_count": null,
   "id": "3d958981-a87d-4d7f-83eb-465752a72e15",
   "metadata": {},
   "outputs": [],
   "source": [
    "# run this \n",
    "INT-2240 = \"my favorite course\""
   ]
  },
  {
   "cell_type": "markdown",
   "id": "13462206-9e44-4d6c-b49b-492e83b5454c",
   "metadata": {},
   "source": [
    "Write a function to calculate the square of a number entered by a user (you need to ask the user to enter a number).\n",
    "Tell which parts of your function are function header and block."
   ]
  },
  {
   "cell_type": "code",
   "execution_count": null,
   "id": "7e0ada71-06bb-4347-96ae-d7a3822c2a43",
   "metadata": {},
   "outputs": [],
   "source": [
    "# Re-write the following using functions: a main function, a function to do the inputting, a function to do the input validation, and another function to do the processing and outputting.\n",
    "n = int (input(\"Enter a positive number \"))\n",
    "while n <= 0:                # Input validation loop\n",
    "    print (\"You entered \", n)\n",
    "    n = int (input(\"Enter a positive number \"))\n",
    "count = 1\n",
    "while count <= n:\n",
    "    #print (count)\n",
    "    print (count, end = ' ')  # use this version of print function to suppress doing a newline.\n",
    "    count += 1         # Using an Augmented Assignment Operator\n",
    "print ()\n",
    "print (\"The number that was last entered was a \", count)\n",
    "print (\"Program ends.\")"
   ]
  },
  {
   "cell_type": "code",
   "execution_count": null,
   "id": "d0453110-f47f-4274-9a78-21599d4073c0",
   "metadata": {},
   "outputs": [],
   "source": [
    "# run the following\n",
    "print(2+4))"
   ]
  },
  {
   "cell_type": "code",
   "execution_count": null,
   "id": "45bcb51f-327a-474b-9b64-3de8886ecae8",
   "metadata": {},
   "outputs": [],
   "source": [
    "print(my_name)"
   ]
  },
  {
   "cell_type": "code",
   "execution_count": null,
   "id": "f47725c6-6bb1-4e18-b5c8-9fe10d2cbfa1",
   "metadata": {},
   "outputs": [],
   "source": [
    "print(5/0)"
   ]
  },
  {
   "cell_type": "code",
   "execution_count": null,
   "id": "ed944021-6052-48ae-b7de-4ae80566ed94",
   "metadata": {},
   "outputs": [],
   "source": [
    "# prompt the user to give you a number and multiply the number by three using this code. Provide explanation about what you get.\n",
    "my_number = input(\"give me a number \")\n",
    "my_product = my_number * 3"
   ]
  },
  {
   "cell_type": "code",
   "execution_count": 1,
   "id": "0a9d3e5d-2ddb-440d-b07a-0f00b66fb2cb",
   "metadata": {},
   "outputs": [],
   "source": [
    "# Ginen this function:\n",
    "def homework_grades():\n",
    "    return 14, 12, 13, 9\n",
    "hw1, hw2, hw3, hw4 = homeworkgrades()\n",
    "# what is the grade point of homework 3 (hw3)? findout programmatically"
   ]
  },
  {
   "cell_type": "markdown",
   "id": "af254cba-1f19-4b5a-a045-738424d5103c",
   "metadata": {},
   "source": [
    " What is the relation between \"decision structures\" and \"boolean expressions\"?"
   ]
  },
  {
   "cell_type": "markdown",
   "id": "e3096b1b-ed06-4cea-adf1-52e5f2dec9f7",
   "metadata": {},
   "source": [
    "A running total is a sum of numbers that accumulates with each iteration of a loop. What is the name of the variable used to keep the running total?"
   ]
  },
  {
   "cell_type": "markdown",
   "id": "08ba89f3-7d27-4fdf-8373-9d4abb74734d",
   "metadata": {},
   "source": [
    "Write a function to find even numbers among the list numbers."
   ]
  },
  {
   "cell_type": "code",
   "execution_count": null,
   "id": "5c6927d7-eae8-4e90-915f-7356930c3343",
   "metadata": {},
   "outputs": [],
   "source": [
    "# Comment and explain this code:\n",
    "import statistics as st\n",
    "\n",
    "def describe(sample):\n",
    "    return st.mean(sample), st.median(sample), st.mode(sample)\n",
    "\n",
    "sample = [10, 2, 4, 7, 9, 3, 9, 8, 6, 7]\n",
    "mean, median, mode = describe(sample)"
   ]
  }
 ],
 "metadata": {
  "kernelspec": {
   "display_name": "Python 3.12 (py312)",
   "language": "python",
   "name": "py312"
  },
  "language_info": {
   "codemirror_mode": {
    "name": "ipython",
    "version": 3
   },
   "file_extension": ".py",
   "mimetype": "text/x-python",
   "name": "python",
   "nbconvert_exporter": "python",
   "pygments_lexer": "ipython3",
   "version": "3.12.2"
  }
 },
 "nbformat": 4,
 "nbformat_minor": 5
}
