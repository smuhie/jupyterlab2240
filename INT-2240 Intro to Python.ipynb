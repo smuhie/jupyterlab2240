{
 "cells": [
  {
   "cell_type": "markdown",
   "id": "94665bd7-0d8d-4754-8a9a-ae86e53be0f5",
   "metadata": {},
   "source": [
    "# Intro to Python (INT-2240)"
   ]
  },
  {
   "cell_type": "markdown",
   "id": "ac94ec89-28a8-4ce0-a64d-c3277878b9b0",
   "metadata": {},
   "source": [
    "\n",
    "### Installing Jupyter Lab or Notebook on macOS and Windows\n",
    "\n",
    "#### **For macOS:**\n",
    "\n",
    "1. **Install Python:**\n",
    "   - Ensure Python is installed. You can download the latest version of Python from the [official Python website](https://www.python.org/downloads/).\n",
    "   - During installation, ensure that you check the box to add Python to your PATH.\n",
    "\n",
    "2. **Open Terminal:**\n",
    "   - You can find Terminal in `Applications > Utilities > Terminal`.\n",
    "\n",
    "3. **Install Jupyter Lab or Notebook:**\n",
    "   - You can install Jupyter Lab or Notebook using `pip`, Python's package installer.\n",
    "   - For Jupyter Lab, run:\n",
    "     ```bash\n",
    "     pip install jupyterlab\n",
    "     ```\n",
    "   - For Jupyter Notebook, run:\n",
    "     ```bash\n",
    "     pip install notebook\n",
    "     ```\n",
    "\n",
    "4. **Launch Jupyter Lab or Notebook:**\n",
    "   - To launch Jupyter Lab, run:\n",
    "     ```bash\n",
    "     jupyter lab\n",
    "     ```\n",
    "   - To launch Jupyter Notebook, run:\n",
    "     ```bash\n",
    "     jupyter notebook\n",
    "     ```\n",
    "\n",
    "5. **Access Jupyter Interface:**\n",
    "   - A new browser window should open with the Jupyter interface. If it doesn't, you can manually open your browser and navigate to `http://localhost:8888`.\n",
    "\n",
    "#### **For Windows:**\n",
    "\n",
    "1. **Install Python:**\n",
    "   - Download and install Python from the [official Python website](https://www.python.org/downloads/).\n",
    "   - Ensure you check the box to add Python to your PATH during the installation.\n",
    "\n",
    "2. **Open Command Prompt or PowerShell:**\n",
    "   - You can open Command Prompt or PowerShell by searching for it in the Start menu.\n",
    "\n",
    "3. **Install Jupyter Lab or Notebook:**\n",
    "   - Similar to macOS, use `pip` to install Jupyter Lab or Notebook.\n",
    "   - For Jupyter Lab, run:\n",
    "     ```bash\n",
    "     pip install jupyterlab\n",
    "     ```\n",
    "   - For Jupyter Notebook, run:\n",
    "     ```bash\n",
    "     pip install notebook\n",
    "     ```\n",
    "\n",
    "4. **Launch Jupyter Lab or Notebook:**\n",
    "   - To start Jupyter Lab, type:\n",
    "     ```bash\n",
    "     jupyter lab\n",
    "     ```\n",
    "   - To start Jupyter Notebook, type:\n",
    "     ```bash\n",
    "     jupyter notebook\n",
    "     ```\n",
    "\n",
    "5. **Access Jupyter Interface:**\n",
    "   - A new browser window should automatically open with the Jupyter interface. If not, navigate to `http://localhost:8888` in your browser.\n",
    "\n",
    "#### **Using Anaconda (Alternative for macOS and Windows):**\n",
    "\n",
    "1. **Install Anaconda:**\n",
    "   - Download and install the [Anaconda distribution](https://www.anaconda.com/products/distribution), which comes with Jupyter Notebook and Jupyter Lab pre-installed.\n",
    "\n",
    "2. **Launch Jupyter:**\n",
    "   - Open Anaconda Navigator (available in the Start menu on Windows or in Applications on macOS).\n",
    "   - From Anaconda Navigator, you can launch Jupyter Lab or Notebook by clicking on the respective buttons.\n",
    "\n",
    "### Additional Resources:\n",
    "- [Jupyter Documentation](https://jupyter.org/documentation)\n",
    "- [Python Official Downloads](https://www.python.org/downloads/)\n",
    "- [Anaconda Distribution](https://www.anaconda.com/products/distribution)"
   ]
  },
  {
   "cell_type": "code",
   "execution_count": null,
   "id": "0e7dfc05-85d1-4b19-88a7-edcdc804664f",
   "metadata": {},
   "outputs": [],
   "source": []
  },
  {
   "cell_type": "markdown",
   "id": "90faed24-6c3a-4c52-974d-d9e8e561cb5e",
   "metadata": {},
   "source": [
    "### Introduction to Programming Languages\n",
    "- **What is a Programming Language?**\n",
    "  - A programming language is a formal language comprising a set of instructions that produce various kinds of output. Programming languages are used in computer programming to implement algorithms."
   ]
  },
  {
   "cell_type": "markdown",
   "id": "ed4d671d-c485-4fdd-865a-7e96fb4a3d14",
   "metadata": {},
   "source": [
    "Why Python?\n",
    "- **Python Overview:**\n",
    "  - Python is an interpreted, high-level, and general-purpose programming language. Created by Guido van Rossum and first released in 1991, Python’s design philosophy emphasizes code readability with its notable use of significant indentation.\n",
    "  - **Key Features:**\n",
    "    - **Readability:** Python's syntax is clear and easy to understand.\n",
    "    - **Versatility:** Used in web development, data science, automation, etc.\n",
    "    - **Community Support:** Extensive libraries and frameworks."
   ]
  },
  {
   "cell_type": "markdown",
   "id": "eab34694-226d-4e74-863a-32d89fda4713",
   "metadata": {},
   "source": [
    "### Variables and Data Types\n",
    "- **Variables in Python:**\n",
    "  - Variables are containers for storing data values.\n",
    "  - Python has no command for declaring a variable.\n",
    "  - A variable is created the moment you first assign a value to it."
   ]
  },
  {
   "cell_type": "code",
   "execution_count": 9,
   "id": "28717e90-dad6-4505-be52-2fe112f70cc6",
   "metadata": {},
   "outputs": [
    {
     "name": "stdout",
     "output_type": "stream",
     "text": [
      "5\n",
      "Hello, World!\n"
     ]
    }
   ],
   "source": [
    "x = 5\n",
    "y = \"Hello, World!\"\n",
    "print(x)\n",
    "print(y)"
   ]
  },
  {
   "cell_type": "markdown",
   "id": "db9726d2-9a15-4140-ae88-196074227694",
   "metadata": {},
   "source": [
    "- **Data Types in Python:**\n",
    "  - **Text Type:** `str`\n",
    "  - **Numeric Types:** `int`, `float`\n",
    "  - **Sequence Types:** `list`, `tuple`\n",
    "  - **Mapping Type:** `dict`"
   ]
  },
  {
   "cell_type": "markdown",
   "id": "d3a13d92-42fc-4d5c-901c-00539fefbe51",
   "metadata": {},
   "source": [
    "### Operators and Expressions\n",
    "- **Operators:**\n",
    "  - **Arithmetic Operators:** `+`, `-`, `*`, `/`, `%`, `**`, `//`\n",
    "  - **Comparison Operators:** `==`, `!=`, `>`, `<`, `>=`, `<=`\n",
    "  - **Logical Operators:** `and`, `or`, `not`"
   ]
  },
  {
   "cell_type": "code",
   "execution_count": 10,
   "id": "21cc3839-5455-4e85-9882-1ce7925e0a80",
   "metadata": {},
   "outputs": [
    {
     "name": "stdout",
     "output_type": "stream",
     "text": [
      "30\n",
      "False\n"
     ]
    }
   ],
   "source": [
    "a = 10\n",
    "b = 20\n",
    "print(a + b)  # Addition\n",
    "print(a > b)  # Comparison"
   ]
  },
  {
   "cell_type": "markdown",
   "id": "c885fe09-63e9-42be-811c-0613724568da",
   "metadata": {},
   "source": [
    "### Control Flow (Conditionals)\n",
    "- **If Statements:**\n",
    "  - Control the flow of a program by executing certain code blocks based on conditions."
   ]
  },
  {
   "cell_type": "code",
   "execution_count": 11,
   "id": "4a9693f8-c931-4665-be01-60f049daa9e4",
   "metadata": {},
   "outputs": [
    {
     "name": "stdout",
     "output_type": "stream",
     "text": [
      "b is greater than a\n"
     ]
    }
   ],
   "source": [
    "if a > b:\n",
    "    print(\"a is greater than b\")\n",
    "elif a == b:\n",
    "    print(\"a and b are equal\")\n",
    "else:\n",
    "    print(\"b is greater than a\")"
   ]
  },
  {
   "cell_type": "markdown",
   "id": "1f3c378d-ee1b-45d0-9445-3f5b2bc5b828",
   "metadata": {},
   "source": [
    "### Loops\n",
    "- **For Loops:**\n",
    "  - Used for iterating over a sequence (like a list, tuple, dictionary, set, or string)."
   ]
  },
  {
   "cell_type": "code",
   "execution_count": 13,
   "id": "945cc8a3-aa91-4407-9dbd-a1989b6c18d0",
   "metadata": {},
   "outputs": [],
   "source": [
    "# sequence data types:\n",
    "data1 = [1, 2, 3, 4, 5] # list\n",
    "data2 = (1, 2, 3, 4, 5) # tuple\n",
    "data3 = {1, 2, 3, 4, 5} # set\n"
   ]
  },
  {
   "cell_type": "code",
   "execution_count": 15,
   "id": "3d34c9af-8cc3-4efc-bd38-d279b65b0ea0",
   "metadata": {},
   "outputs": [
    {
     "name": "stdout",
     "output_type": "stream",
     "text": [
      "<class 'list'>\n",
      "<class 'tuple'>\n",
      "<class 'set'>\n"
     ]
    }
   ],
   "source": [
    "print(type(data1))\n",
    "print(type(data2))\n",
    "print(type(data3))"
   ]
  },
  {
   "cell_type": "code",
   "execution_count": 16,
   "id": "ccbf893c-0e79-4f5e-bf60-19544e60a775",
   "metadata": {},
   "outputs": [
    {
     "name": "stdout",
     "output_type": "stream",
     "text": [
      "<class 'dict'>\n"
     ]
    }
   ],
   "source": [
    "dict1 = {\"name\" : \"seid\", \"age\" : 49, \"course\" : \"python\"}\n",
    "print(type(dict1))"
   ]
  },
  {
   "cell_type": "code",
   "execution_count": 17,
   "id": "761b63ae-c13e-41a6-adce-b4d372c3e385",
   "metadata": {},
   "outputs": [
    {
     "name": "stdout",
     "output_type": "stream",
     "text": [
      "apple\n",
      "banana\n",
      "cherry\n"
     ]
    }
   ],
   "source": [
    "fruits = [\"apple\", \"banana\", \"cherry\"]\n",
    "for x in fruits:\n",
    "    print(x)"
   ]
  },
  {
   "cell_type": "markdown",
   "id": "2c1aeb5a-21c2-4dfe-aa3b-d9ea68b70d53",
   "metadata": {},
   "source": [
    "- **While Loops:**\n",
    "  - Continue executing as long as the condition is true."
   ]
  },
  {
   "cell_type": "code",
   "execution_count": 18,
   "id": "35340872-466f-4396-a13e-b0162e338455",
   "metadata": {},
   "outputs": [
    {
     "name": "stdout",
     "output_type": "stream",
     "text": [
      "1\n",
      "2\n",
      "3\n",
      "4\n",
      "5\n"
     ]
    }
   ],
   "source": [
    "i = 1\n",
    "while i < 6:\n",
    "    print(i)\n",
    "    i += 1"
   ]
  },
  {
   "cell_type": "markdown",
   "id": "bbb7653c-6123-425e-9359-c8eb76d136de",
   "metadata": {},
   "source": [
    "### Functions\n",
    "- **Defining and Calling Functions:**\n",
    "  - Functions are blocks of code which only run when called. You can pass data, known as parameters, into a function. Functions return data as a result."
   ]
  },
  {
   "cell_type": "code",
   "execution_count": null,
   "id": "e9d4d4cd-b73f-410a-bb71-0c002f3c7396",
   "metadata": {},
   "outputs": [],
   "source": [
    "def my_function():\n",
    "    print(\"Hello from a function\")\n",
    "\n",
    "my_function()"
   ]
  },
  {
   "cell_type": "markdown",
   "id": "21cd21d0-7d9b-4782-9a48-3aa247c4f12f",
   "metadata": {},
   "source": [
    "- **Arguments and Return Values:**"
   ]
  },
  {
   "cell_type": "code",
   "execution_count": 19,
   "id": "002aad1f-45b2-4575-b846-02dfe348aad2",
   "metadata": {},
   "outputs": [],
   "source": [
    "def add_numbers(x, y):\n",
    "    return x + y\n",
    "\n",
    "result = add_numbers(3, 5)\n",
    "#print(result)"
   ]
  },
  {
   "cell_type": "code",
   "execution_count": null,
   "id": "a49db794-a13e-4e02-9b34-06bc8036f7b5",
   "metadata": {},
   "outputs": [],
   "source": [
    "print(add_numbers(3, 5))"
   ]
  },
  {
   "cell_type": "markdown",
   "id": "0704a694-548b-4cb8-bcc1-204f9e4b1053",
   "metadata": {},
   "source": [
    "what are x and y called? -- parameters (local variable)\n",
    "\n",
    "what about 3 & 5? -- arguments"
   ]
  },
  {
   "cell_type": "markdown",
   "id": "ff0ff58f-83d7-4519-9323-ffc3c392ee86",
   "metadata": {},
   "source": [
    "### Lists and Tuples\n",
    "- **Lists:**\n",
    "  - Lists are used to store multiple items in a single variable."
   ]
  },
  {
   "cell_type": "code",
   "execution_count": 22,
   "id": "65e07814-1b2f-433d-a61b-7c4c53a057d9",
   "metadata": {},
   "outputs": [
    {
     "name": "stdout",
     "output_type": "stream",
     "text": [
      "apple\n"
     ]
    }
   ],
   "source": [
    "my_list = [\"apple\", \"banana\", \"cherry\"]\n",
    "print(my_list[0])"
   ]
  },
  {
   "cell_type": "markdown",
   "id": "555c769b-8e68-417a-a4a2-85cf7914a316",
   "metadata": {},
   "source": [
    "- **Tuples:**\n",
    "  - A tuple is a collection which is ordered and unchangeable."
   ]
  },
  {
   "cell_type": "code",
   "execution_count": null,
   "id": "b857925f-23d7-4eb1-a4cf-9e82aaecd575",
   "metadata": {},
   "outputs": [],
   "source": [
    "my_tuple = (\"apple\", \"banana\", \"cherry\")\n",
    "print(my_tuple[1])"
   ]
  },
  {
   "cell_type": "markdown",
   "id": "82e4207b-47a9-4479-99e3-4f860995216c",
   "metadata": {},
   "source": [
    "Dictionaries\n",
    "- **Dictionaries:**\n",
    "  - Dictionaries are used to store data values in key:value pairs."
   ]
  },
  {
   "cell_type": "code",
   "execution_count": 23,
   "id": "af4ecab6-4f75-45c6-92f8-4ceda0a392b9",
   "metadata": {},
   "outputs": [
    {
     "name": "stdout",
     "output_type": "stream",
     "text": [
      "John\n",
      "36\n"
     ]
    }
   ],
   "source": [
    "my_dict = {\"name\": \"John\", \"age\": 36}\n",
    "print(my_dict[\"name\"])\n",
    "print(my_dict[\"age\"])"
   ]
  },
  {
   "cell_type": "markdown",
   "id": "3643edb6-4ccf-4a99-9345-f73ecda527cb",
   "metadata": {},
   "source": [
    "### Basic Input and Output\n",
    "- **Taking Input from the User:**\n",
    "  - The `input()` function allows user input."
   ]
  },
  {
   "cell_type": "code",
   "execution_count": 26,
   "id": "82213c76-73a1-4a93-9fc1-6fb459f427f7",
   "metadata": {},
   "outputs": [
    {
     "name": "stdin",
     "output_type": "stream",
     "text": [
      "Enter your name:  seid\n"
     ]
    },
    {
     "name": "stdout",
     "output_type": "stream",
     "text": [
      "Hello, seid\n",
      "<class 'str'>\n"
     ]
    }
   ],
   "source": [
    "name = input(\"Enter your name: \")\n",
    "print(\"Hello, \" + name)\n",
    "print(type(name))"
   ]
  },
  {
   "cell_type": "code",
   "execution_count": 27,
   "id": "84df8e6c-95f5-4c6d-8707-2af798679c7e",
   "metadata": {},
   "outputs": [
    {
     "name": "stdin",
     "output_type": "stream",
     "text": [
      "what is your age?:  49\n"
     ]
    },
    {
     "name": "stdout",
     "output_type": "stream",
     "text": [
      "your age is:  49\n",
      "<class 'str'>\n"
     ]
    }
   ],
   "source": [
    "age = input(\"what is your age?: \")\n",
    "print(\"your age is: \", age)\n",
    "print(type(age))"
   ]
  },
  {
   "cell_type": "markdown",
   "id": "4c1668f0-a9a1-4636-bdbe-cb99193e15d3",
   "metadata": {},
   "source": [
    "- **Printing Output:**\n",
    "  - The `print()` function is used to output data to the screen."
   ]
  },
  {
   "cell_type": "code",
   "execution_count": 28,
   "id": "f5db36da-f09a-4b50-99d9-54695e4817be",
   "metadata": {},
   "outputs": [
    {
     "name": "stdout",
     "output_type": "stream",
     "text": [
      "This is some text.\n"
     ]
    }
   ],
   "source": [
    "print(\"This is some text.\")"
   ]
  },
  {
   "cell_type": "markdown",
   "id": "d123be22-7d18-4def-a99b-f719265f0a83",
   "metadata": {},
   "source": [
    "### Introduction to Data Types and Variables\n",
    "- **Data Types**:\n",
    "  - **Integers (`int`)**: Whole numbers, e.g., `42`, `-7`\n",
    "  - **Floating Point Numbers (`float`)**: Decimal numbers, e.g., `3.14`, `-0.001`\n",
    "  - **Strings (`str`)**: Text, e.g., `\"Hello, World!\"`\n",
    "  - **Booleans (`bool`)**: `True` or `False`\n",
    "\n",
    "- **Variables**:\n",
    "  - A variable is a named location used to store data in memory.\n",
    "  - **Assignment**: Use `=` to assign a value to a variable."
   ]
  },
  {
   "cell_type": "code",
   "execution_count": null,
   "id": "82da9d99-66e6-492e-bec9-b9d714408c4f",
   "metadata": {},
   "outputs": [],
   "source": [
    "age = 25\n",
    "name = \"Alice\"\n",
    "temperature = 98.6\n",
    "is_sunny = True"
   ]
  },
  {
   "cell_type": "markdown",
   "id": "40b79c62-55f2-4d2c-a16f-6e4a1454b77d",
   "metadata": {},
   "source": [
    "### Working with Variables\n",
    "- **Naming Rules**:\n",
    "  - Variable names must start with a letter or underscore.\n",
    "  - Cannot start with a number.\n",
    "  - Can contain letters, numbers, and underscores.\n",
    "\n",
    "- **Examples**:"
   ]
  },
  {
   "cell_type": "code",
   "execution_count": 35,
   "id": "65350e84-a827-47a7-b759-7ffaf1a6d98b",
   "metadata": {},
   "outputs": [],
   "source": [
    "my_age = 49"
   ]
  },
  {
   "cell_type": "code",
   "execution_count": 36,
   "id": "569666d2-dd0c-4d74-b940-2a142c3211d0",
   "metadata": {},
   "outputs": [
    {
     "ename": "SyntaxError",
     "evalue": "invalid decimal literal (1078983290.py, line 7)",
     "output_type": "error",
     "traceback": [
      "\u001b[0;36m  Cell \u001b[0;32mIn[36], line 7\u001b[0;36m\u001b[0m\n\u001b[0;31m    1st_place = \"Gold\"\u001b[0m\n\u001b[0m    ^\u001b[0m\n\u001b[0;31mSyntaxError\u001b[0m\u001b[0;31m:\u001b[0m invalid decimal literal\n"
     ]
    }
   ],
   "source": [
    "# Valid variable names\n",
    "first_name = \"John\"\n",
    "age = 30\n",
    "is_active = False\n",
    "    \n",
    "# Invalid variable name (will cause an error)\n",
    "1st_place = \"Gold\""
   ]
  },
  {
   "cell_type": "markdown",
   "id": "ea1970ed-d141-4f31-9d97-33ea73c0dcdc",
   "metadata": {},
   "source": [
    "### Basic Data Types in Python\n",
    "- **Integer Operations**:\n",
    "  - Basic arithmetic operations: `+`, `-`, `*`, `/`, `//`, `%`, `**`"
   ]
  },
  {
   "cell_type": "code",
   "execution_count": null,
   "id": "38edc63e-42e3-46d2-8762-838862ccc963",
   "metadata": {},
   "outputs": [],
   "source": [
    "x = 10\n",
    "y = 3\n",
    "print(x + y)  # Addition: 13\n",
    "print(x - y)  # Subtraction: 7\n",
    "print(x * y)  # Multiplication: 30\n",
    "print(x / y)  # Division: 3.3333...\n",
    "print(x // y)  # Floor Division: 3\n",
    "print(x % y)  # Modulus: 1\n",
    "print(x ** y)  # Exponent: 1000"
   ]
  },
  {
   "cell_type": "markdown",
   "id": "2401b603-dd18-4af7-9558-91e56b50b2ff",
   "metadata": {},
   "source": [
    "- **String Operations**:\n",
    "  - Concatenation: `+`\n",
    "  - Repetition: `*`"
   ]
  },
  {
   "cell_type": "code",
   "execution_count": 37,
   "id": "fabc5213-1e30-4297-be48-fd2e499abc6d",
   "metadata": {},
   "outputs": [
    {
     "name": "stdout",
     "output_type": "stream",
     "text": [
      "Ada Lovelace\n",
      "hahaha\n"
     ]
    }
   ],
   "source": [
    "first_name = \"Ada\"\n",
    "last_name = \"Lovelace\"\n",
    "full_name = first_name + \" \" + last_name  # \"Ada Lovelace\"\n",
    "print(full_name)\n",
    "    \n",
    "laugh = \"ha\" * 3  # \"hahaha\"\n",
    "print(laugh)"
   ]
  },
  {
   "cell_type": "markdown",
   "id": "6bfe5771-320e-4f5e-ab11-a07012076f04",
   "metadata": {},
   "source": [
    "### Type Conversion\n",
    "- **Converting Between Data Types**:\n",
    "  - Use `int()`, `float()`, `str()` to convert between data types."
   ]
  },
  {
   "cell_type": "code",
   "execution_count": 38,
   "id": "68c1780e-fc06-4830-a68b-069ebedd9ed1",
   "metadata": {},
   "outputs": [
    {
     "name": "stdin",
     "output_type": "stream",
     "text": [
      "what is your age?  49\n"
     ]
    },
    {
     "ename": "TypeError",
     "evalue": "unsupported operand type(s) for -: 'int' and 'str'",
     "output_type": "error",
     "traceback": [
      "\u001b[0;31m---------------------------------------------------------------------------\u001b[0m",
      "\u001b[0;31mTypeError\u001b[0m                                 Traceback (most recent call last)",
      "Cell \u001b[0;32mIn[38], line 2\u001b[0m\n\u001b[1;32m      1\u001b[0m age \u001b[38;5;241m=\u001b[39m \u001b[38;5;28minput\u001b[39m(\u001b[38;5;124m'\u001b[39m\u001b[38;5;124mwhat is your age? \u001b[39m\u001b[38;5;124m'\u001b[39m)\n\u001b[0;32m----> 2\u001b[0m birth_year \u001b[38;5;241m=\u001b[39m \u001b[38;5;241m2024\u001b[39m \u001b[38;5;241m-\u001b[39m age\n\u001b[1;32m      3\u001b[0m \u001b[38;5;28mprint\u001b[39m(birth_year)\n",
      "\u001b[0;31mTypeError\u001b[0m: unsupported operand type(s) for -: 'int' and 'str'"
     ]
    }
   ],
   "source": [
    "age = input('what is your age? ')\n",
    "birth_year = 2024 - age\n",
    "print(birth_year)"
   ]
  },
  {
   "cell_type": "code",
   "execution_count": 39,
   "id": "337a0b55-b5cc-4367-80c9-ad544e9a0fc2",
   "metadata": {},
   "outputs": [
    {
     "name": "stdin",
     "output_type": "stream",
     "text": [
      "what is your age?  49\n"
     ]
    },
    {
     "name": "stdout",
     "output_type": "stream",
     "text": [
      "1975\n"
     ]
    }
   ],
   "source": [
    "age = int(input('what is your age? '))\n",
    "birth_year = 2024 - age\n",
    "print(birth_year)"
   ]
  },
  {
   "cell_type": "code",
   "execution_count": 43,
   "id": "c6ab8512-b19d-4166-a10f-63932005b324",
   "metadata": {},
   "outputs": [
    {
     "name": "stdout",
     "output_type": "stream",
     "text": [
      "25\n",
      "<class 'int'>\n",
      "9\n",
      "<class 'int'>\n",
      "42\n",
      "<class 'str'>\n"
     ]
    }
   ],
   "source": [
    "age = \"25\"\n",
    "age = int(age) # Convert string to integer\n",
    "print(age)\n",
    "print(type(age))\n",
    "\n",
    "price = 9.99\n",
    "price = int(price)  # Convert float to integer (results in 9)\n",
    "print(price)\n",
    "print(type(price))\n",
    "\n",
    "number = 42\n",
    "text = str(number)  # Convert integer to string\n",
    "print(text)\n",
    "print(type(text))"
   ]
  },
  {
   "cell_type": "markdown",
   "id": "2e2e7c76-af70-446f-8ec5-db849b8ef00d",
   "metadata": {},
   "source": [
    "### Basic Input and Output Operations\n",
    "- **Input from User**:\n",
    "  - Use `input()` to get input from the user (always returns a string).\n",
    "  - Convert input if necessary."
   ]
  },
  {
   "cell_type": "code",
   "execution_count": null,
   "id": "47d2955a-6bad-42be-9702-cd5d42081ceb",
   "metadata": {},
   "outputs": [],
   "source": [
    "name = input(\"Enter your name: \")\n",
    "print(\"Hello, \" + name + \"!\")\n",
    "\n",
    "age = int(input(\"Enter your age: \"))  # Convert input to integer"
   ]
  },
  {
   "cell_type": "markdown",
   "id": "69949025-6b59-46a6-b338-30520d65381d",
   "metadata": {},
   "source": [
    "- **Printing Output**:\n",
    "  - Use `print()` to display output.\n",
    "  - You can print multiple items by separating them with commas."
   ]
  },
  {
   "cell_type": "code",
   "execution_count": null,
   "id": "c5672cc0-db46-4824-8e31-71756beda2a1",
   "metadata": {},
   "outputs": [],
   "source": [
    "print(\"The value of x is\", x)\n",
    "print(\"Temperature:\", temperature)"
   ]
  },
  {
   "cell_type": "code",
   "execution_count": 44,
   "id": "78a83c30-9410-4786-bb98-4b02cbc41f37",
   "metadata": {},
   "outputs": [
    {
     "name": "stdout",
     "output_type": "stream",
     "text": [
      "seid ali james\n"
     ]
    }
   ],
   "source": [
    "print('seid', 'ali', 'james')"
   ]
  },
  {
   "cell_type": "code",
   "execution_count": 45,
   "id": "79c08367-5fce-4d8a-b296-1d7d433b1637",
   "metadata": {},
   "outputs": [
    {
     "name": "stdout",
     "output_type": "stream",
     "text": [
      "seidalijames\n"
     ]
    }
   ],
   "source": [
    "print('seid' + 'ali' + 'james')"
   ]
  },
  {
   "cell_type": "code",
   "execution_count": 46,
   "id": "64f70f6b-279d-40c8-a968-969c34524e3b",
   "metadata": {},
   "outputs": [
    {
     "name": "stdout",
     "output_type": "stream",
     "text": [
      "seid ali james\n"
     ]
    }
   ],
   "source": [
    "print('seid' + ' ' + 'ali' + ' ' + 'james')"
   ]
  },
  {
   "cell_type": "code",
   "execution_count": 47,
   "id": "41cbe700-2f82-4bfa-ba01-2cc551a53263",
   "metadata": {},
   "outputs": [
    {
     "name": "stdout",
     "output_type": "stream",
     "text": [
      "seid ali james\n"
     ]
    }
   ],
   "source": [
    "print('seid ' + 'ali ' +  'james')"
   ]
  },
  {
   "cell_type": "markdown",
   "id": "7ac04f65-2f90-4b9b-a178-19bba8b01f45",
   "metadata": {},
   "source": [
    "### Basic Operators in Python\n",
    "- **Arithmetic Operators**:\n",
    "  - Perform arithmetic operations: `+`, `-`, `*`, `/`, `%`, `**`, `//`."
   ]
  },
  {
   "cell_type": "code",
   "execution_count": null,
   "id": "b74f9d4c-b33f-4813-97d2-666e3e7e281b",
   "metadata": {},
   "outputs": [],
   "source": [
    "a = 10\n",
    "b = 3\n",
    "print(a + b)  # Addition\n",
    "print(a ** b)  # Exponentiation"
   ]
  },
  {
   "cell_type": "markdown",
   "id": "8d93c2ce-f849-4cbc-85ec-7e8a028deeae",
   "metadata": {},
   "source": [
    "- **Comparison Operators**:\n",
    "  - Compare values: `==`, `!=`, `>`, `<`, `>=`, `<=`."
   ]
  },
  {
   "cell_type": "code",
   "execution_count": null,
   "id": "ab56aa14-a63c-4bbd-82c8-c62cf260ac10",
   "metadata": {},
   "outputs": [],
   "source": [
    "print(a > b)  # True\n",
    "print(a == b)  # False"
   ]
  },
  {
   "cell_type": "markdown",
   "id": "6743d8be-7155-467a-bc45-f462cc6bea39",
   "metadata": {},
   "source": [
    "- **Logical Operators**:\n",
    "  - Combine conditional statements: `and`, `or`, `not`."
   ]
  },
  {
   "cell_type": "code",
   "execution_count": null,
   "id": "10747618-f7d1-4073-aa23-8e1f49db07f0",
   "metadata": {},
   "outputs": [],
   "source": [
    "print(a > 5 and b < 5)  # True\n",
    "print(a > 5 or b > 5)  # True\n",
    "print(not(a > b))  # False"
   ]
  },
  {
   "cell_type": "markdown",
   "id": "e3736f96-67fe-4176-b1c3-06d0cf133510",
   "metadata": {},
   "source": [
    "### Combining Concepts with an Example\n",
    "- **Example**: Simple User Interaction\n",
    "  - A program that asks for a user’s name and age, and then prints a message."
   ]
  },
  {
   "cell_type": "code",
   "execution_count": null,
   "id": "6a7492aa-9a75-4562-bc9d-5de569eb29c3",
   "metadata": {},
   "outputs": [],
   "source": [
    "name = input(\"What is your name? \")\n",
    "age = int(input(\"How old are you? \"))\n",
    "\n",
    "year_born = 2024 - age\n",
    "print(f\"Hello, {name}! You were born in {year_born}.\")"
   ]
  },
  {
   "cell_type": "markdown",
   "id": "e643e16c-7a04-4d1b-bed3-2b9e2c8065bb",
   "metadata": {},
   "source": [
    "### Review and Questions\n",
    "- **Key Takeaways**:\n",
    "  - Understanding of basic data types: integers, floats, strings, and booleans.\n",
    "  - Ability to create and use variables.\n",
    "  - Basic input and output operations with `input()` and `print()`.\n",
    "  - Use of arithmetic, comparison, and logical operators.\n",
    "  \n",
    "- **Questions?**"
   ]
  },
  {
   "cell_type": "markdown",
   "id": "fdd12ca2-bb6d-4fee-aa00-5669a6f473de",
   "metadata": {},
   "source": [
    "### Introduction to Boolean Values\n",
    "- **Boolean Values**:\n",
    "  - Python has a data type called `bool` which can hold one of two values: `True` or `False`.\n",
    "  - Booleans are commonly used in conditional statements and loops.\n",
    "\n",
    "- **Example**:"
   ]
  },
  {
   "cell_type": "code",
   "execution_count": null,
   "id": "44819534-fc5a-471c-8904-f66aee6a7bac",
   "metadata": {},
   "outputs": [],
   "source": [
    "is_sunny = True\n",
    "is_raining = False\n",
    "print(is_sunny)  # Output: True"
   ]
  },
  {
   "cell_type": "markdown",
   "id": "0639d391-c318-4f54-8199-a150478936ec",
   "metadata": {},
   "source": [
    "### Conditional Execution\n",
    "- **If Statements**:\n",
    "  - Conditional statements are used to perform different actions based on different conditions.\n",
    "  - The `if` statement executes a block of code if its condition evaluates to `True`.\n",
    "\n",
    "- **Example**:"
   ]
  },
  {
   "cell_type": "code",
   "execution_count": 51,
   "id": "9d070ed9-da25-4812-98c1-66e1379ed74f",
   "metadata": {},
   "outputs": [
    {
     "name": "stdout",
     "output_type": "stream",
     "text": [
      "you are a minor\n"
     ]
    }
   ],
   "source": [
    "age = 10\n",
    "if age >= 18:\n",
    "    print(\"You are an adult.\")\n",
    "else:\n",
    "    print('You are a minor')"
   ]
  },
  {
   "cell_type": "markdown",
   "id": "f2d1f57c-4a9a-46cb-a40d-3f982a451602",
   "metadata": {},
   "source": [
    "- **Else and Elif**:\n",
    "  - `else` provides an alternative block if the `if` condition is `False`.\n",
    "  - `elif` allows multiple conditions to be checked in sequence.\n",
    "\n",
    "- **Example**:"
   ]
  },
  {
   "cell_type": "code",
   "execution_count": 52,
   "id": "2ca893c4-f8ad-4cd9-b37f-19942b08f1dc",
   "metadata": {},
   "outputs": [
    {
     "name": "stdout",
     "output_type": "stream",
     "text": [
      "It's a pleasant day.\n"
     ]
    }
   ],
   "source": [
    "temperature = 25 # celcius\n",
    "if temperature > 30:\n",
    "    print(\"It's a hot day.\")\n",
    "elif temperature < 10:\n",
    "    print(\"It's a cold day.\")\n",
    "else:\n",
    "    print(\"It's a pleasant day.\")"
   ]
  },
  {
   "cell_type": "markdown",
   "id": "9e8501b2-df7f-45df-b278-66213ef40d7b",
   "metadata": {},
   "source": [
    "### Logical Operators\n",
    "- **Logical Operators**:\n",
    "  - `and`, `or`, and `not` are used to combine multiple conditions.\n",
    "\n",
    "- **Example**:"
   ]
  },
  {
   "cell_type": "code",
   "execution_count": null,
   "id": "a6816978-7bd8-4910-97df-1915068e99dd",
   "metadata": {},
   "outputs": [],
   "source": [
    "is_weekend = True\n",
    "is_sunny = False\n",
    "\n",
    "if is_weekend and is_sunny:\n",
    "    print(\"Let's go to the beach!\")\n",
    "elif is_weekend and not is_sunny:\n",
    "    print(\"Let's watch a movie at home.\")\n",
    "else:\n",
    "    print(\"Time to work!\")"
   ]
  },
  {
   "cell_type": "markdown",
   "id": "75890eb6-a639-4d7d-8cce-8fda618bb7c9",
   "metadata": {},
   "source": [
    "### Loops in Python\n",
    "- **While Loop**:\n",
    "  - Repeats a block of code as long as a condition is `True`.\n",
    "  - Be careful with while loops to avoid infinite loops.\n",
    "\n",
    "- **Example**:"
   ]
  },
  {
   "cell_type": "code",
   "execution_count": 53,
   "id": "8e6086e8-b180-4843-8b3a-356ac14c5376",
   "metadata": {},
   "outputs": [
    {
     "name": "stdout",
     "output_type": "stream",
     "text": [
      "Counting: 0\n",
      "Counting: 1\n",
      "Counting: 2\n",
      "Counting: 3\n",
      "Counting: 4\n"
     ]
    }
   ],
   "source": [
    "count = 0\n",
    "while count < 5:\n",
    "    print(\"Counting:\", count)\n",
    "    count += 1"
   ]
  },
  {
   "cell_type": "markdown",
   "id": "72c4f5bd-beb8-492e-9ebc-811951076f3a",
   "metadata": {},
   "source": [
    "- **For Loop**:\n",
    "  - Iterates over a sequence (like a list, tuple, or string).\n",
    "  \n",
    "- **Example**:"
   ]
  },
  {
   "cell_type": "code",
   "execution_count": 54,
   "id": "6e6cca50-06d8-4e4d-8b64-9644aefc2752",
   "metadata": {},
   "outputs": [
    {
     "name": "stdout",
     "output_type": "stream",
     "text": [
      "Iteration: 0\n",
      "Iteration: 1\n",
      "Iteration: 2\n",
      "Iteration: 3\n",
      "Iteration: 4\n"
     ]
    }
   ],
   "source": [
    "for i in range(5):\n",
    "    print(\"Iteration:\", i)"
   ]
  },
  {
   "cell_type": "markdown",
   "id": "88b042c3-3337-4ac2-bdbe-1cdc60c476a6",
   "metadata": {},
   "source": [
    "### Lists in Python\n",
    "- **What is a List?**:\n",
    "  - A list is a collection of items that is ordered and changeable.\n",
    "  - Lists allow duplicate members and can contain elements of different data types.\n",
    "\n",
    "- **Example**:"
   ]
  },
  {
   "cell_type": "code",
   "execution_count": null,
   "id": "3859eeb2-3300-4b2e-a63a-447f8e4cd0af",
   "metadata": {},
   "outputs": [],
   "source": [
    "fruits = [\"apple\", \"banana\", \"cherry\"]\n",
    "print(fruits)"
   ]
  },
  {
   "cell_type": "markdown",
   "id": "d1ef63a4-7350-4369-a832-0a7f6e3a23cb",
   "metadata": {},
   "source": [
    "### Accessing List Elements\n",
    "- **Indexing**:\n",
    "  - Access individual items using their index.\n",
    "  - Lists are zero-indexed in Python.\n",
    "\n",
    "- **Example**:"
   ]
  },
  {
   "cell_type": "code",
   "execution_count": null,
   "id": "3126db9c-7227-4077-ae3c-4f95cf3e819d",
   "metadata": {},
   "outputs": [],
   "source": [
    "print(fruits[0])  # Output: apple\n",
    "print(fruits[-1])  # Output: cherry"
   ]
  },
  {
   "cell_type": "markdown",
   "id": "623f2c51-e71e-40e3-af43-3772191383f4",
   "metadata": {},
   "source": [
    "- **Slicing**:\n",
    "  - Access a subset of the list using slice notation.\n",
    "\n",
    "- **Example**:"
   ]
  },
  {
   "cell_type": "code",
   "execution_count": null,
   "id": "d0554e7c-f36c-4dde-bafb-1a2147324828",
   "metadata": {},
   "outputs": [],
   "source": [
    "print(fruits[1:3])  # Output: ['banana', 'cherry']"
   ]
  },
  {
   "cell_type": "code",
   "execution_count": 56,
   "id": "14ff90f8-f84e-49db-86b6-3854ca5d1993",
   "metadata": {},
   "outputs": [
    {
     "name": "stdout",
     "output_type": "stream",
     "text": [
      "['apple', 'banana']\n"
     ]
    }
   ],
   "source": [
    "fruits = [\"apple\", \"banana\", \"cherry\"]\n",
    "print(fruits[0:2])"
   ]
  },
  {
   "cell_type": "code",
   "execution_count": 57,
   "id": "5906abc6-9f4e-49f5-affd-e6b86052d032",
   "metadata": {},
   "outputs": [
    {
     "name": "stdout",
     "output_type": "stream",
     "text": [
      "ei\n"
     ]
    }
   ],
   "source": [
    "print('seid'[1:3])"
   ]
  },
  {
   "cell_type": "markdown",
   "id": "049ba472-47b8-4692-95fd-f25e29ea294f",
   "metadata": {},
   "source": [
    "### Modifying Lists\n",
    "- **Adding Items**:\n",
    "  - Use `append()` to add an item to the end of the list.\n",
    "  - Use `insert()` to add an item at a specific position.\n",
    "\n",
    "- **Example**:"
   ]
  },
  {
   "cell_type": "code",
   "execution_count": 58,
   "id": "242dd9a4-b2ad-4ca5-a216-245dbd4cf730",
   "metadata": {},
   "outputs": [
    {
     "name": "stdout",
     "output_type": "stream",
     "text": [
      "['apple', 'blueberry', 'banana', 'cherry', 'orange']\n"
     ]
    }
   ],
   "source": [
    "fruits = [\"apple\", \"banana\", \"cherry\"]\n",
    "fruits.append(\"orange\") # fruits = [\"apple\", \"banana\", \"cherry\", \"orange\"]\n",
    "fruits.insert(1, \"blueberry\") # fruits = [\"apple\", \"blueberry\", \"banana\", \"cherry\", \"orange\"]\n",
    "print(fruits)"
   ]
  },
  {
   "cell_type": "markdown",
   "id": "5b77c2f5-3b8a-4710-95f0-6b128d14067c",
   "metadata": {},
   "source": [
    "- **Removing Items**:\n",
    "  - Use `remove()` to remove a specific item.\n",
    "  - Use `pop()` to remove an item by index.\n",
    "\n",
    "- **Example**:"
   ]
  },
  {
   "cell_type": "code",
   "execution_count": 59,
   "id": "329b9e71-9ee6-43b1-8be7-7b54ae2fe06f",
   "metadata": {},
   "outputs": [
    {
     "name": "stdout",
     "output_type": "stream",
     "text": [
      "['banana', 'cherry', 'orange']\n"
     ]
    }
   ],
   "source": [
    "fruits.remove(\"apple\")\n",
    "fruits.pop(0)\n",
    "print(fruits)"
   ]
  },
  {
   "cell_type": "markdown",
   "id": "66a8565b-4682-4f3b-8006-486b2b524c15",
   "metadata": {},
   "source": [
    "### List Processing\n",
    "- **List Comprehensions**:\n",
    "  - A concise way to create lists using a loop in a single line of code.\n",
    "\n",
    "- **Example**:"
   ]
  },
  {
   "cell_type": "code",
   "execution_count": 60,
   "id": "f24cad15-8155-42e6-bb72-577f1a2dbe19",
   "metadata": {},
   "outputs": [
    {
     "name": "stdout",
     "output_type": "stream",
     "text": [
      "[1, 4, 9, 16, 25]\n"
     ]
    }
   ],
   "source": [
    "numbers = [1, 2, 3, 4, 5]\n",
    "squares = [x**2 for x in numbers] # list compression\n",
    "print(squares)  # Output: [1, 4, 9, 16, 25]"
   ]
  },
  {
   "cell_type": "code",
   "execution_count": 61,
   "id": "2205450d-0d5a-4b5a-94aa-8db4553b9b0d",
   "metadata": {},
   "outputs": [
    {
     "name": "stdout",
     "output_type": "stream",
     "text": [
      "1\n",
      "4\n",
      "9\n",
      "16\n",
      "25\n"
     ]
    }
   ],
   "source": [
    "numbers = [1, 2, 3, 4, 5]\n",
    "for x in numbers:\n",
    "    print(x**2)"
   ]
  },
  {
   "cell_type": "code",
   "execution_count": 62,
   "id": "061d1187-96d2-4115-ae43-f19a5facb546",
   "metadata": {},
   "outputs": [
    {
     "name": "stdout",
     "output_type": "stream",
     "text": [
      "[1, 4, 9, 16, 25]\n"
     ]
    }
   ],
   "source": [
    "print([x**2 for x in numbers])"
   ]
  },
  {
   "cell_type": "markdown",
   "id": "c8955fd4-b4a0-4d37-b8af-951fc1f1dd96",
   "metadata": {},
   "source": [
    "- **Filtering with List Comprehensions**:\n",
    "  - You can include a conditional statement in the list comprehension.\n",
    "\n",
    "- **Example**:"
   ]
  },
  {
   "cell_type": "code",
   "execution_count": 63,
   "id": "bde48593-45e6-4290-8c37-f9d720427b26",
   "metadata": {},
   "outputs": [
    {
     "name": "stdout",
     "output_type": "stream",
     "text": [
      "[2, 4]\n"
     ]
    }
   ],
   "source": [
    "even_numbers = [x for x in numbers if x % 2 == 0]\n",
    "print(even_numbers)  # Output: [2, 4]"
   ]
  },
  {
   "cell_type": "markdown",
   "id": "2993725b-b438-49a9-980e-ef49652a53b5",
   "metadata": {},
   "source": [
    "### Combining Lists with Loops\n",
    "- **Iterating Over Lists**:\n",
    "  - Use loops to perform operations on list items.\n",
    "\n",
    "- **Example**:"
   ]
  },
  {
   "cell_type": "code",
   "execution_count": 64,
   "id": "bef822e6-aca9-41e1-a63d-b722aa6774ee",
   "metadata": {},
   "outputs": [
    {
     "name": "stdout",
     "output_type": "stream",
     "text": [
      "APPLE\n",
      "BLUEBERRY\n",
      "BANANA\n",
      "CHERRY\n",
      "ORANGE\n"
     ]
    }
   ],
   "source": [
    "fruits = [\"apple\", \"blueberry\", \"banana\", \"cherry\", \"orange\"]\n",
    "for fruit in fruits:\n",
    "    print(fruit.upper())"
   ]
  },
  {
   "cell_type": "markdown",
   "id": "ed989298-83e5-4751-b58b-cec5bce189bc",
   "metadata": {},
   "source": [
    "### Nested Loops and Lists\n",
    "- **Nested Lists**:\n",
    "  - Lists can contain other lists as elements.\n",
    "  \n",
    "- **Example**:"
   ]
  },
  {
   "cell_type": "code",
   "execution_count": 65,
   "id": "72ed7707-a49f-42a4-b81a-56321c1f9155",
   "metadata": {},
   "outputs": [
    {
     "name": "stdout",
     "output_type": "stream",
     "text": [
      "1 2 3 \n",
      "4 5 6 \n",
      "7 8 9 \n"
     ]
    }
   ],
   "source": [
    "matrix = [\n",
    "      [1, 2, 3],\n",
    "      [4, 5, 6],\n",
    "      [7, 8, 9]\n",
    "  ]\n",
    "  \n",
    "for row in matrix:\n",
    "    for item in row:\n",
    "        print(item, end=\" \")\n",
    "    print()"
   ]
  },
  {
   "cell_type": "markdown",
   "id": "8eb5f2b8-e3a2-41c2-a695-dfb7ea8c66ab",
   "metadata": {},
   "source": [
    "### Review and Questions\n",
    "- **Key Takeaways**:\n",
    "  - Understanding of Boolean values and how they influence control flow.\n",
    "  - Mastery of loops for repeated execution and list processing.\n",
    "  - Ability to manipulate lists and extract useful data with list comprehensions.\n",
    "\n",
    "- **Questions?**\n"
   ]
  },
  {
   "cell_type": "markdown",
   "id": "9ee02047-27b8-461b-9e07-d6fb5babf786",
   "metadata": {},
   "source": [
    "### Introduction to Functions\n",
    "- **What are Functions?**:\n",
    "  - A function is a block of reusable code that performs a specific task.\n",
    "  - Functions help to organize code into manageable sections and promote code reuse.\n",
    "\n",
    "- **Defining Functions**:\n",
    "  - Use the `def` keyword to define a function, followed by the function name and parentheses containing any parameters.\n",
    "\n",
    "- **Example**:"
   ]
  },
  {
   "cell_type": "code",
   "execution_count": null,
   "id": "364bef78-3177-4f22-b14a-b38fcfa6ec36",
   "metadata": {},
   "outputs": [],
   "source": [
    "def greet(name):\n",
    "    print(f\"Hello, {name}!\")\n",
    "  \n",
    "greet(\"Alice\")\n",
    "# Output: Hello, Alice!"
   ]
  },
  {
   "cell_type": "markdown",
   "id": "77c7b1cc-7bd4-4f22-9d75-35d78b6d45aa",
   "metadata": {},
   "source": [
    "### Function Parameters and Return Values\n",
    "- **Parameters**:\n",
    "  - Functions can take in parameters (arguments) to work with data passed from the caller.\n",
    "  \n",
    "- **Return Values**:\n",
    "  - Functions can return a value using the `return` statement.\n",
    "\n",
    "- **Example**:"
   ]
  },
  {
   "cell_type": "code",
   "execution_count": null,
   "id": "a01803c6-c831-4957-afa2-0e1c69d85080",
   "metadata": {},
   "outputs": [],
   "source": [
    "def add_numbers(a, b):\n",
    "    return a + b\n",
    "  \n",
    "result = add_numbers(5, 3)\n",
    "print(result)  # Output: 8"
   ]
  },
  {
   "cell_type": "markdown",
   "id": "320a46cf-934c-41ff-8f3d-0c75750d7762",
   "metadata": {},
   "source": [
    "### Scope and Lifetime of Variables\n",
    "- **Local and Global Scope**:\n",
    "  - Variables defined inside a function are local to that function and cannot be accessed outside it.\n",
    "  - Variables defined outside all functions are global and can be accessed anywhere in the code.\n",
    "\n",
    "- **Example**:"
   ]
  },
  {
   "cell_type": "code",
   "execution_count": null,
   "id": "fff0f8fa-a20e-454c-97b5-d7f1957b355e",
   "metadata": {},
   "outputs": [],
   "source": [
    "def my_function():\n",
    "    local_var = 10  # Local variable\n",
    "    print(local_var)\n",
    "\n",
    "global_var = 20  # Global variable\n",
    "my_function()\n",
    "print(global_var)"
   ]
  },
  {
   "cell_type": "markdown",
   "id": "7dfc1bd3-7920-4016-a835-90b1028cf220",
   "metadata": {},
   "source": [
    "### Introduction to Tuples\n",
    "- **What are Tuples?**:\n",
    "  - Tuples are immutable sequences, meaning they cannot be changed after creation.\n",
    "  - Use parentheses `()` to define a tuple.\n",
    "\n",
    "- **Example**:"
   ]
  },
  {
   "cell_type": "code",
   "execution_count": null,
   "id": "73a3e7cd-4fa3-4ed4-8193-dc10c7249962",
   "metadata": {},
   "outputs": [],
   "source": [
    "coordinates = (10, 20)\n",
    "print(coordinates[0])  # Output: 10"
   ]
  },
  {
   "cell_type": "markdown",
   "id": "0c0cce29-ad02-45af-8138-3974a0a283cc",
   "metadata": {},
   "source": [
    "- **Immutability**:\n",
    "  - Unlike lists, the elements of a tuple cannot be modified, added, or removed.\n",
    "\n",
    "- **Example**:\n",
    "  ```python\n",
    "  # coordinates[0] = 30  # This will raise an error\n",
    "  ```"
   ]
  },
  {
   "cell_type": "markdown",
   "id": "7b0508c7-3438-4459-8dff-cacea6205151",
   "metadata": {},
   "source": [
    "### Using Tuples in Functions\n",
    "- **Returning Multiple Values**:\n",
    "  - Functions can return multiple values as a tuple, making it easier to handle related data together.\n",
    "\n",
    "- **Example**"
   ]
  },
  {
   "cell_type": "code",
   "execution_count": 67,
   "id": "3c102c18-de8d-4a5f-8c39-068fa37ef448",
   "metadata": {},
   "outputs": [
    {
     "name": "stdout",
     "output_type": "stream",
     "text": [
      "(3, 1)\n",
      "<class 'tuple'>\n"
     ]
    }
   ],
   "source": [
    "def divide(x, y):\n",
    "    quotient = x // y\n",
    "    remainder = x % y\n",
    "    return (quotient, remainder)\n",
    "  \n",
    "result = divide(10, 3)\n",
    "print(result)  # Output: (3, 1)\n",
    "print(type(result))"
   ]
  },
  {
   "cell_type": "markdown",
   "id": "1a46ad60-0db4-42a4-8716-95670086271e",
   "metadata": {},
   "source": [
    "### Introduction to Dictionaries\n",
    "- **What are Dictionaries?**:\n",
    "  - Dictionaries are collections of key-value pairs, where each key is associated with a value.\n",
    "  - Use curly braces `{}` to define a dictionary, and key-value pairs are separated by a colon `:`.\n",
    "\n",
    "- **Example**:"
   ]
  },
  {
   "cell_type": "code",
   "execution_count": 69,
   "id": "8b89228f-7163-47f4-bc85-3c4451cd86dc",
   "metadata": {},
   "outputs": [
    {
     "name": "stdout",
     "output_type": "stream",
     "text": [
      "Alice\n"
     ]
    }
   ],
   "source": [
    "student = {\n",
    "      \"name\": \"Alice\",\n",
    "      \"age\": 25,\n",
    "      \"major\": \"Computer Science\"\n",
    "  }\n",
    "print(student[\"name\"])  # Output: Alice"
   ]
  },
  {
   "cell_type": "markdown",
   "id": "ebdeb28e-4a67-458a-b1df-68caa6da8c3d",
   "metadata": {},
   "source": [
    "### Basic Dictionary Operations\n",
    "- **Adding/Modifying Entries**:\n",
    "  - You can add a new key-value pair or modify an existing one by assigning a value to a key.\n",
    "\n",
    "- **Example**:"
   ]
  },
  {
   "cell_type": "code",
   "execution_count": 70,
   "id": "b18eb2e4-c28d-4916-88d7-35f5051eaafa",
   "metadata": {},
   "outputs": [
    {
     "name": "stdout",
     "output_type": "stream",
     "text": [
      "{'name': 'Alice', 'age': 26, 'major': 'Computer Science', 'grade': 'A'}\n"
     ]
    }
   ],
   "source": [
    "student[\"grade\"] = \"A\"\n",
    "student[\"age\"] = 26\n",
    "print(student)"
   ]
  },
  {
   "cell_type": "markdown",
   "id": "e069add3-d715-4766-b546-3699950a9663",
   "metadata": {},
   "source": [
    "- **Removing Entries**:\n",
    "  - Use the `del` keyword or the `pop()` method to remove a key-value pair.\n",
    "\n",
    "- **Example**:"
   ]
  },
  {
   "cell_type": "code",
   "execution_count": null,
   "id": "39035022-6668-4d17-b7af-dc088c4aaba8",
   "metadata": {},
   "outputs": [],
   "source": [
    "del student[\"major\"]\n",
    "age = student.pop(\"age\")\n",
    "print(student)  # Output: {'name': 'Alice', 'grade': 'A'}"
   ]
  },
  {
   "cell_type": "markdown",
   "id": "29df39b7-8f2e-4641-a18e-c3339bbd278a",
   "metadata": {},
   "source": [
    "### Looping Through Dictionaries\n",
    "- **Iterating Over Keys and Values**:\n",
    "  - You can loop through a dictionary using the `items()` method to access both keys and values.\n",
    "\n",
    "- **Example**:"
   ]
  },
  {
   "cell_type": "code",
   "execution_count": 71,
   "id": "b4873f29-9274-4d54-bc29-0139d4689906",
   "metadata": {},
   "outputs": [
    {
     "name": "stdout",
     "output_type": "stream",
     "text": [
      "name: Alice\n",
      "age: 26\n",
      "major: Computer Science\n",
      "grade: A\n"
     ]
    }
   ],
   "source": [
    "for key, value in student.items():\n",
    "    print(f\"{key}: {value}\")"
   ]
  },
  {
   "cell_type": "markdown",
   "id": "865c9e1c-ba32-4089-b65e-3b3eedc9e2ee",
   "metadata": {},
   "source": [
    "### Introduction to Data Processing\n",
    "- **Combining Data Structures**:\n",
    "  - Often, data is stored in complex structures like lists of dictionaries, or dictionaries of lists. Understanding how to access and manipulate this data is crucial.\n",
    "\n",
    "- **Example**:"
   ]
  },
  {
   "cell_type": "code",
   "execution_count": 73,
   "id": "634256be-5441-450f-9e19-0ec5b5fa716f",
   "metadata": {},
   "outputs": [
    {
     "name": "stdout",
     "output_type": "stream",
     "text": [
      "25\n",
      "22\n",
      "23\n"
     ]
    }
   ],
   "source": [
    "students = [\n",
    "      {\"name\": \"Alice\", \"age\": 25},\n",
    "      {\"name\": \"Bob\", \"age\": 22},\n",
    "      {\"name\": \"Charlie\", \"age\": 23}\n",
    "  ]\n",
    "  \n",
    "for student in students:\n",
    "    print(student[\"age\"])"
   ]
  },
  {
   "cell_type": "markdown",
   "id": "24735592-cbf7-4dac-9331-145bbcf16cd5",
   "metadata": {},
   "source": [
    "# we will meet at 8:20 pm # only for th next session"
   ]
  },
  {
   "cell_type": "markdown",
   "id": "9f4c479d-266d-46f8-8bb4-554959082d92",
   "metadata": {},
   "source": [
    "### Advanced Data Processing Techniques\n",
    "- **Nested Data Structures**:\n",
    "  - Working with nested data structures requires careful indexing and looping.\n",
    "\n",
    "- **Example**:"
   ]
  },
  {
   "cell_type": "code",
   "execution_count": null,
   "id": "3e44194d-2828-4cc5-a588-d328dbd23b5c",
   "metadata": {},
   "outputs": [],
   "source": [
    "data = {\n",
    "      \"group1\": {\"Alice\": 85, \"Bob\": 90},\n",
    "      \"group2\": {\"Charlie\": 88, \"David\": 92}\n",
    "  }\n",
    "  \n",
    "for group, members in data.items():\n",
    "    print(f\"{group}:\")\n",
    "    for name, score in members.items():\n",
    "        print(f\"  {name} scored {score}\")"
   ]
  },
  {
   "cell_type": "markdown",
   "id": "bee40cbe-7c49-4250-92ce-2a5369bf1a03",
   "metadata": {},
   "source": [
    "### Slide 11: Summary and Conclusion\n",
    "- **Key Takeaways**:\n",
    "  - Functions allow for code reuse and organization.\n",
    "  - Tuples are immutable sequences, ideal for returning multiple values from functions.\n",
    "  - Dictionaries store key-value pairs, offering fast lookups and flexible data storage.\n",
    "  - Data processing often involves combining and manipulating complex data structures.\n",
    "\n",
    "- **Practice Examples**:\n",
    "  - Write your own functions using tuples and dictionaries.\n",
    "  - Perform tasks involving nested dictionaries and data processing."
   ]
  },
  {
   "cell_type": "code",
   "execution_count": null,
   "id": "691f5eb1-57f4-49cb-94bd-8c9f6eb79e9e",
   "metadata": {},
   "outputs": [],
   "source": []
  },
  {
   "cell_type": "code",
   "execution_count": null,
   "id": "51d7acd6-f491-4699-b9d8-9794bf6d23bb",
   "metadata": {},
   "outputs": [],
   "source": []
  },
  {
   "cell_type": "markdown",
   "id": "8382e4ca-a834-4973-8568-07d466f9d80b",
   "metadata": {},
   "source": [
    "# Data Types"
   ]
  },
  {
   "cell_type": "markdown",
   "id": "2ee1066b-f25b-4495-9312-1b7761c49317",
   "metadata": {},
   "source": [
    "### Slide 1: Introduction to Data Types in Python\n",
    "- **What are Data Types?**\n",
    "  - Data types in Python define the type of data that can be stored and manipulated within a program.\n",
    "  - Python is dynamically typed, meaning variables do not need explicit declaration of their type.\n",
    "\n",
    "- **Common Data Types in Python:**\n",
    "  - **Integers (`int`)**: Whole numbers without a decimal point.\n",
    "  - **Floating Point (`float`)**: Numbers that contain a decimal point.\n",
    "  - **Strings (`str`)**: Text data enclosed in quotes.\n",
    "  - **Booleans (`bool`)**: Representing True or False values.\n",
    "  - **NoneType (`None`)**: Represents the absence of a value."
   ]
  },
  {
   "cell_type": "markdown",
   "id": "1461913a-5ed5-42c3-b887-2e7d76aaf1f6",
   "metadata": {},
   "source": [
    "### Slide 2: Integer and Floating Point Types\n",
    "- **Integers (`int`)**\n",
    "  - Example:"
   ]
  },
  {
   "cell_type": "code",
   "execution_count": null,
   "id": "a778f83d-61ae-46fd-b45f-d99ee515fec6",
   "metadata": {},
   "outputs": [],
   "source": [
    "age = 30\n",
    "year = 2024"
   ]
  },
  {
   "cell_type": "markdown",
   "id": "bcb51083-cca1-4191-ada0-7a374a279a7e",
   "metadata": {},
   "source": [
    " - **Operations**: Addition, subtraction, multiplication, division.\n",
    "  - Example:"
   ]
  },
  {
   "cell_type": "code",
   "execution_count": null,
   "id": "f75e15ee-a7c9-4fe9-8154-3ef699424f27",
   "metadata": {},
   "outputs": [],
   "source": [
    "result = 5 + 10  # Output: 15"
   ]
  },
  {
   "cell_type": "markdown",
   "id": "9a4757ec-9d3d-4b23-9e4f-8c1d512fda9c",
   "metadata": {},
   "source": [
    "- **Floating Point (`float`)**\n",
    "  - Example:"
   ]
  },
  {
   "cell_type": "code",
   "execution_count": null,
   "id": "932aa5d2-f28c-40f4-82d6-6dda96a87929",
   "metadata": {},
   "outputs": [],
   "source": [
    "price = 19.99\n",
    "weight = 2.75"
   ]
  },
  {
   "cell_type": "markdown",
   "id": "0a8b7bb5-01a9-4314-94dc-472317873666",
   "metadata": {},
   "source": [
    "- **Operations**: Support for arithmetic operations, similar to integers, but include decimals.\n",
    "- Example:   "
   ]
  },
  {
   "cell_type": "code",
   "execution_count": null,
   "id": "958e3bf8-5968-46af-98f4-b4f75902ef4f",
   "metadata": {},
   "outputs": [],
   "source": [
    "total = 19.99 * 3  # Output: 59.97"
   ]
  },
  {
   "cell_type": "markdown",
   "id": "0f22a1c2-5ef7-45b8-a570-ea79e2710aaa",
   "metadata": {},
   "source": [
    "### Slide 3: String Data Type (`str`)\n",
    "- **What are Strings?**\n",
    "  - Strings represent sequences of characters enclosed in single (`'`) or double (`\"`) quotes.\n",
    "\n",
    "- **Creating Strings**\n",
    "  - Example:"
   ]
  },
  {
   "cell_type": "code",
   "execution_count": null,
   "id": "e95b11ff-361c-42d7-8fd7-ccf8bd4d220c",
   "metadata": {},
   "outputs": [],
   "source": [
    "name = \"Alice\"\n",
    "greeting = 'Hello, World!'"
   ]
  },
  {
   "cell_type": "markdown",
   "id": "ecc1769b-7c34-4664-aa6e-0fd223e0890d",
   "metadata": {},
   "source": [
    "- **String Concatenation**\n",
    "  - Example:"
   ]
  },
  {
   "cell_type": "code",
   "execution_count": null,
   "id": "916321dc-1501-4e8b-8ed9-1aa031bec380",
   "metadata": {},
   "outputs": [],
   "source": [
    "full_name = \"John\" + \" \" + \"Doe\"  # Output: John Doe"
   ]
  },
  {
   "cell_type": "markdown",
   "id": "e8d71cbc-f2b2-4c1a-b6f3-405a36487d0d",
   "metadata": {},
   "source": [
    "- **String Methods**\n",
    "  - `upper()`, `lower()`, `title()`, `strip()`, `find()`, `replace()`.\n",
    "  - Example:"
   ]
  },
  {
   "cell_type": "code",
   "execution_count": null,
   "id": "474900bd-ea61-4777-b583-8d1b2589a322",
   "metadata": {},
   "outputs": [],
   "source": [
    "text = \"python programming\"\n",
    "print(text.title())  # Output: Python Programming"
   ]
  },
  {
   "cell_type": "markdown",
   "id": "a1307f0b-d1fd-4995-aee8-c8ffa6553174",
   "metadata": {},
   "source": [
    "### Slide 4: Boolean Data Type (`bool`)\n",
    "- **What are Booleans?**\n",
    "  - Booleans represent logical values: `True` or `False`.\n",
    "\n",
    "- **Boolean Operations**\n",
    "  - `and`, `or`, `not` are used to combine Boolean values.\n",
    "  - Example:\n",
    "    ```python\n",
    "    is_student = True\n",
    "    is_teacher = False\n",
    "    print(is_student and is_teacher)  # Output: False\n",
    "    ```\n",
    "\n",
    "- **Comparison Operators**\n",
    "  - `==`, `!=`, `>`, `<`, `>=`, `<=` used to compare values.\n",
    "  - Example:\n",
    "    ```python\n",
    "    result = (10 > 5)  # Output: True\n",
    "    ```\n"
   ]
  },
  {
   "cell_type": "markdown",
   "id": "bfc09abe-d013-43c5-8a58-9f74ed2ce80a",
   "metadata": {},
   "source": [
    "### Slide 5: NoneType (`None`)\n",
    "- **What is NoneType?**\n",
    "  - `None` represents the absence of a value or a null value.\n",
    "  \n",
    "- **Common Uses of None**\n",
    "  - Default return value for functions without an explicit `return` statement.\n",
    "  - Example:"
   ]
  },
  {
   "cell_type": "code",
   "execution_count": null,
   "id": "aeed6d6a-5582-48e8-936a-4176149a92e2",
   "metadata": {},
   "outputs": [],
   "source": [
    "result = None\n",
    "def my_function():\n",
    "    pass\n",
    "    \n",
    "print(my_function())  # Output: None"
   ]
  },
  {
   "cell_type": "markdown",
   "id": "d435c8e7-de66-455e-ae71-3359c7a993c5",
   "metadata": {},
   "source": [
    "### Slide 6: Type Conversion (Type Casting)\n",
    "- **Why Type Conversion?**\n",
    "  - Sometimes it’s necessary to convert one data type to another.\n",
    "\n",
    "- **Common Conversions**\n",
    "  - `int()`, `float()`, `str()`, `bool()`.\n",
    "  - Example:"
   ]
  },
  {
   "cell_type": "code",
   "execution_count": null,
   "id": "00d5d29a-57d3-4aaa-8ee0-5035e27483cc",
   "metadata": {},
   "outputs": [],
   "source": [
    "num_str = \"100\"\n",
    "num_int = int(num_str)  # Converts string to integer"
   ]
  },
  {
   "cell_type": "markdown",
   "id": "ba19fe4c-4633-41d5-8634-8aaa72f8e82a",
   "metadata": {},
   "source": [
    "- **Automatic Type Conversion**\n",
    "  - Python automatically converts data types when performing operations with mixed types.\n",
    "  - Example:"
   ]
  },
  {
   "cell_type": "code",
   "execution_count": null,
   "id": "4aafa592-511b-4f5f-ad48-87c92dee3ec7",
   "metadata": {},
   "outputs": [],
   "source": [
    "result = 10 + 2.5  # Integer and float mixed operation, result is float 12.5"
   ]
  },
  {
   "cell_type": "markdown",
   "id": "f12d33b7-d84b-4bae-ab57-14aa7bcb0ed3",
   "metadata": {},
   "source": [
    "### Slide 7: Summary\n",
    "- **Key Points**:\n",
    "  - Python supports multiple data types such as `int`, `float`, `str`, `bool`, and `None`.\n",
    "  - Each data type has specific characteristics and operations that can be performed on it.\n",
    "  - Understanding and correctly using data types is foundational for programming in Python.\n",
    "\n",
    "- **Practical Exercise**:\n",
    "  - Create variables of different types and perform operations on them.\n",
    "  - Try type conversions and explore the behavior of mixed-type operations."
   ]
  },
  {
   "cell_type": "code",
   "execution_count": null,
   "id": "1497e60a-4d35-410b-9f36-69d0a2b467c2",
   "metadata": {},
   "outputs": [],
   "source": []
  },
  {
   "cell_type": "markdown",
   "id": "8f248024-e216-4636-a6b0-fd304670acb6",
   "metadata": {},
   "source": [
    "# Variables"
   ]
  },
  {
   "cell_type": "markdown",
   "id": "1f320bfb-4f28-4b3a-8172-3eef0cee5dea",
   "metadata": {},
   "source": [
    "### Slide 1: Introduction to Variables\n",
    "- **What is a Variable?**\n",
    "  - A variable is a symbolic name that references or \"stores\" data in a computer program.\n",
    "  - Variables allow you to store information and manipulate it throughout your program.\n",
    "\n",
    "- **Creating a Variable**\n",
    "  - Variables are created by assigning a value to them using the `=` operator.\n",
    "  - Example:`"
   ]
  },
  {
   "cell_type": "code",
   "execution_count": null,
   "id": "0ed07097-131d-4611-bb38-6b15ee59b797",
   "metadata": {},
   "outputs": [],
   "source": [
    "name = \"Alice\"\n",
    "age = 30\n",
    "height = 5.8"
   ]
  },
  {
   "cell_type": "markdown",
   "id": "bc52ec8d-76f9-41e0-be84-80323ee53205",
   "metadata": {},
   "source": [
    "### Slide 2: Naming Conventions and Rules\n",
    "- **Variable Naming Rules**\n",
    "  - Variable names must start with a letter or an underscore (`_`).\n",
    "  - They can only contain letters, numbers, and underscores.\n",
    "  - Variable names are case-sensitive (`age`, `Age`, and `AGE` are different variables).\n",
    "\n",
    "- **Best Practices for Naming Variables**\n",
    "  - Use descriptive names that reflect the variable's purpose.\n",
    "  - Use underscores to separate words in a variable name (snake_case).\n",
    "  - Example:"
   ]
  },
  {
   "cell_type": "code",
   "execution_count": null,
   "id": "0df8b5eb-f3a3-43a0-b684-4baddee48b4c",
   "metadata": {},
   "outputs": [],
   "source": [
    "first_name = \"John\"\n",
    "last_name = \"Doe\"\n",
    "total_price = 99.99"
   ]
  },
  {
   "cell_type": "markdown",
   "id": "36cfd3a5-1a1d-460e-87e1-323adc92f373",
   "metadata": {},
   "source": [
    "### Slide 3: Variable Assignment and Reassignment\n",
    "- **Variable Assignment**\n",
    "  - Assigning a value to a variable:"
   ]
  },
  {
   "cell_type": "code",
   "execution_count": null,
   "id": "d24d01c7-00a7-41b4-974f-d04817243a64",
   "metadata": {},
   "outputs": [],
   "source": [
    "x = 10\n",
    "message = \"Hello, World!\""
   ]
  },
  {
   "cell_type": "markdown",
   "id": "9cd33518-d0d7-4983-910a-5d7d2b5e66d0",
   "metadata": {},
   "source": [
    "  - Variables can store various data types, such as integers, floats, strings, etc.\n",
    "\n",
    "- **Variable Reassignment**\n",
    "  - Variables can be reassigned to store a new value.\n",
    "  - Example:"
   ]
  },
  {
   "cell_type": "code",
   "execution_count": null,
   "id": "1d7aa9ad-13cc-41dd-8498-85cbd5cbacb4",
   "metadata": {},
   "outputs": [],
   "source": [
    "x = 10\n",
    "x = 20  # Now x holds the value 20\n",
    "message = \"Goodbye!\""
   ]
  },
  {
   "cell_type": "markdown",
   "id": "32c2c95e-99bb-44d1-bca1-267f4ffd1577",
   "metadata": {},
   "source": [
    "### Slide 4: Multiple Assignments\n",
    "- **Assigning Multiple Variables at Once**\n",
    "  - Python allows you to assign values to multiple variables simultaneously.\n",
    "  - Example:"
   ]
  },
  {
   "cell_type": "code",
   "execution_count": null,
   "id": "34131311-0d95-4494-bc23-eed54b559ca0",
   "metadata": {},
   "outputs": [],
   "source": [
    "x, y, z = 1, 2, 3\n",
    "first_name, last_name = \"Jane\", \"Doe\""
   ]
  },
  {
   "cell_type": "markdown",
   "id": "c2d7ce42-b1b5-4a56-91c9-08f1eea74c3b",
   "metadata": {},
   "source": [
    "- **Swapping Values Between Variables**\n",
    "  - Example:"
   ]
  },
  {
   "cell_type": "code",
   "execution_count": null,
   "id": "e29219fa-8117-47ab-a801-b82c5656665c",
   "metadata": {},
   "outputs": [],
   "source": [
    "a = 5\n",
    "b = 10\n",
    "a, b = b, a  # Now a is 10, and b is 5"
   ]
  },
  {
   "cell_type": "markdown",
   "id": "cb52ef5f-a1aa-4ca9-a8a5-fd56674de87c",
   "metadata": {},
   "source": [
    "### Slide 5: Variable Types and Dynamic Typing\n",
    "- **Python’s Dynamic Typing**\n",
    "  - In Python, the type of a variable is determined at runtime, based on the value assigned to it.\n",
    "  - Example:"
   ]
  },
  {
   "cell_type": "code",
   "execution_count": null,
   "id": "8d5929c5-5926-404f-834e-c7c05be35bb6",
   "metadata": {},
   "outputs": [],
   "source": [
    "x = 10       # x is an integer\n",
    "x = \"Hello\"  # x is now a string"
   ]
  },
  {
   "cell_type": "markdown",
   "id": "9384ae22-0669-477d-95bb-619fd36b999f",
   "metadata": {},
   "source": [
    "- **Checking Variable Type**\n",
    "  - You can use the `type()` function to check the type of a variable.\n",
    "  - Example:"
   ]
  },
  {
   "cell_type": "code",
   "execution_count": null,
   "id": "a37be6c8-ab21-4867-a094-3b1bf753f20f",
   "metadata": {},
   "outputs": [],
   "source": [
    "x = 3.14\n",
    "print(type(x))  # Output: <class 'float'>"
   ]
  },
  {
   "cell_type": "markdown",
   "id": "55997e86-7289-4032-8f9c-4419f160672f",
   "metadata": {},
   "source": [
    "### Slide 6: Variable Scope\n",
    "- **Local vs Global Variables**\n",
    "  - **Local Variables**: Declared inside a function and accessible only within that function.\n",
    "  - **Global Variables**: Declared outside all functions and accessible throughout the program.\n",
    "\n",
    "- **Examples of Scope**\n",
    "- Global variable:"
   ]
  },
  {
   "cell_type": "code",
   "execution_count": null,
   "id": "85e47c1c-8ebc-4f0e-a491-c651679a608f",
   "metadata": {},
   "outputs": [],
   "source": [
    "message = \"Hello\"\n",
    "\n",
    "def greet():\n",
    "    print(message)  # Accessing global variable\n",
    "\n",
    "greet()  # Output: Hello"
   ]
  },
  {
   "cell_type": "markdown",
   "id": "c8b5d487-f182-40c8-b2cc-c00353172b98",
   "metadata": {},
   "source": [
    "- Local variable:"
   ]
  },
  {
   "cell_type": "code",
   "execution_count": null,
   "id": "7b411507-0d74-415f-b937-89a5657e98f6",
   "metadata": {},
   "outputs": [],
   "source": [
    "def greet():\n",
    "    message = \"Hi\"\n",
    "    print(message)  # Accessing local variable\n",
    "\n",
    "greet()  # Output: Hi\n",
    "print(message)  # Error: message is not defined"
   ]
  },
  {
   "cell_type": "markdown",
   "id": "2247018f-9f4b-4635-baa3-1cb877022a28",
   "metadata": {},
   "source": [
    "### Slide 7: Constants\n",
    "- **What are Constants?**\n",
    "  - Constants are variables that are not supposed to change once they have been assigned a value.\n",
    "  - By convention, constants are written in all uppercase letters.\n",
    "\n",
    "- **Example:**"
   ]
  },
  {
   "cell_type": "code",
   "execution_count": null,
   "id": "b6bb397a-903c-4b73-9206-2b246c4d7762",
   "metadata": {},
   "outputs": [],
   "source": [
    "PI = 3.14159\n",
    "MAX_SPEED = 120"
   ]
  },
  {
   "cell_type": "markdown",
   "id": "0af82613-a7f4-4329-beff-2ae1224b6565",
   "metadata": {},
   "source": [
    "- Python does not enforce the immutability of constants, but it is a strong convention."
   ]
  },
  {
   "cell_type": "markdown",
   "id": "8486323c-b957-48da-86d2-40e91f185802",
   "metadata": {},
   "source": [
    "### Slide 8: Summary and Practice\n",
    "- **Summary**\n",
    "  - Variables are essential for storing and manipulating data in Python.\n",
    "  - Understand how to create, name, and manage variables effectively.\n",
    "  - Be mindful of variable scope and use constants where applicable.\n",
    "\n",
    "- **Practical Exercise**\n",
    "  - Create variables to store your name, age, and a greeting message.\n",
    "  - Swap the values of two variables and print the results.\n",
    "  - Check the types of different variables using the `type()` function."
   ]
  },
  {
   "cell_type": "code",
   "execution_count": null,
   "id": "d0e48410-3419-47e9-936d-9822ac6deeef",
   "metadata": {},
   "outputs": [],
   "source": []
  },
  {
   "cell_type": "markdown",
   "id": "ddaef0c8-d175-4e74-8454-6e0e9520f9e3",
   "metadata": {},
   "source": [
    "# Basic Input and Output in Python"
   ]
  },
  {
   "cell_type": "markdown",
   "id": "83da01fa-8f9d-4883-80a8-8e7eb59b505b",
   "metadata": {},
   "source": [
    "### Slide 1: Introduction to Basic Input and Output in Python\n",
    "- **What are Input and Output Operations?**\n",
    "  - **Input**: Data provided to the program by the user.\n",
    "  - **Output**: Data displayed to the user by the program.\n",
    "  - Python has built-in functions like `input()` for gathering input and `print()` for displaying output.\n"
   ]
  },
  {
   "cell_type": "markdown",
   "id": "fb4e81f0-85c3-43ff-9fab-9ad2cd90c494",
   "metadata": {},
   "source": [
    "### Slide 2: Using the `print()` Function\n",
    "- **Basic Output with `print()`**\n",
    "  - The `print()` function is used to output data to the console.\n",
    "  - Example:"
   ]
  },
  {
   "cell_type": "code",
   "execution_count": null,
   "id": "0cfb1bf4-139a-4d8c-8e44-54752a96cc9a",
   "metadata": {},
   "outputs": [],
   "source": [
    "print(\"Hello, World!\")\n",
    "print(42)\n",
    "print(3.14)"
   ]
  },
  {
   "cell_type": "markdown",
   "id": "20a9efbd-294b-4bb1-8f1b-668013195de5",
   "metadata": {},
   "source": [
    "- **Printing Multiple Items**\n",
    "  - You can print multiple items in one `print()` call, separated by commas.\n",
    "  - Example:"
   ]
  },
  {
   "cell_type": "code",
   "execution_count": null,
   "id": "5afbf24d-0f01-4426-b7f8-6c4295478e8e",
   "metadata": {},
   "outputs": [],
   "source": [
    "name = \"Alice\"\n",
    "age = 30\n",
    "print(\"Name:\", name, \"Age:\", age)"
   ]
  },
  {
   "cell_type": "markdown",
   "id": "770cbb0c-6579-4e14-b0f2-7ef469d5f36d",
   "metadata": {},
   "source": [
    "- **Formatting Output**\n",
    "  - Use f-strings (formatted string literals) to insert variables into strings:"
   ]
  },
  {
   "cell_type": "code",
   "execution_count": null,
   "id": "962f5468-586e-4f22-81db-0e10a694568a",
   "metadata": {},
   "outputs": [],
   "source": [
    "name = \"Bob\"\n",
    "age = 25\n",
    "print(f\"My name is {name} and I am {age} years old.\")"
   ]
  },
  {
   "cell_type": "markdown",
   "id": "b361452e-e182-4e10-8806-e65e3f4e52e7",
   "metadata": {},
   "source": [
    "### Slide 3: Using the `input()` Function\n",
    "- **Basic Input with `input()`**\n",
    "  - The `input()` function allows you to take user input as a string.\n",
    "  - Example:"
   ]
  },
  {
   "cell_type": "code",
   "execution_count": null,
   "id": "b6e5b2fc-4a62-43b2-87b8-31fb3554ee8e",
   "metadata": {},
   "outputs": [],
   "source": [
    "user_input = input(\"Enter something: \")\n",
    "print(\"You entered:\", user_input)"
   ]
  },
  {
   "cell_type": "markdown",
   "id": "22e119d5-5eec-44bf-862e-34920fd828b4",
   "metadata": {},
   "source": [
    "- **Converting Input to Other Types**\n",
    "  - Convert the input string to other data types like `int`, `float`, etc.\n",
    "  - Example:"
   ]
  },
  {
   "cell_type": "code",
   "execution_count": null,
   "id": "f2a51f01-45c0-4e3f-a3a7-c6e9f411352d",
   "metadata": {},
   "outputs": [],
   "source": [
    "age = input(\"Enter your age: \")\n",
    "age = int(age)  # Convert the string to an integer\n",
    "print(\"In 10 years, you will be\", age + 10)"
   ]
  },
  {
   "cell_type": "markdown",
   "id": "cb83af6c-01f8-460f-a10a-c8e624a01c11",
   "metadata": {},
   "source": [
    "### Slide 4: Handling Multiple Inputs\n",
    "- **Taking Multiple Inputs**\n",
    "  - You can prompt the user for multiple inputs by calling `input()` multiple times.\n",
    "  - Example:"
   ]
  },
  {
   "cell_type": "code",
   "execution_count": null,
   "id": "178adf50-caf1-4ab2-9030-3786a32c0dc5",
   "metadata": {},
   "outputs": [],
   "source": [
    "first_name = input(\"Enter your first name: \")\n",
    "last_name = input(\"Enter your last name: \")\n",
    "print(f\"Hello, {first_name} {last_name}!\")"
   ]
  },
  {
   "cell_type": "markdown",
   "id": "f682d7fd-9f12-44ce-8dab-23a8c895a36b",
   "metadata": {},
   "source": [
    "- **Splitting Input into Multiple Variables**\n",
    "  - Example:"
   ]
  },
  {
   "cell_type": "code",
   "execution_count": null,
   "id": "7ba1dec1-0d95-414c-8981-1ddbd597874d",
   "metadata": {},
   "outputs": [],
   "source": [
    "data = input(\"Enter your name and age separated by a space: \")\n",
    "name, age = data.split()  # Split input string by spaces\n",
    "age = int(age)  # Convert age to an integer\n",
    "print(f\"Name: {name}, Age: {age}\")"
   ]
  },
  {
   "cell_type": "markdown",
   "id": "bb23869a-f350-4369-b146-731a891e4c7e",
   "metadata": {},
   "source": [
    "### Slide 5: Reading and Writing Files\n",
    "- **Basic File Input and Output**\n",
    "  - Python allows you to read from and write to files using `open()`, `read()`, and `write()` functions.\n",
    "\n",
    "- **Reading a File**\n",
    "  - Example:"
   ]
  },
  {
   "cell_type": "code",
   "execution_count": null,
   "id": "2aecc387-c5a4-4471-ab3e-ccc785b7d1e7",
   "metadata": {},
   "outputs": [],
   "source": [
    "with open('example.txt', 'r') as file:\n",
    "    content = file.read()\n",
    "    print(content)"
   ]
  },
  {
   "cell_type": "markdown",
   "id": "b861cf9d-f769-40cc-9b18-8025989e1828",
   "metadata": {},
   "source": [
    "- **Writing to a File**\n",
    "  - Example:"
   ]
  },
  {
   "cell_type": "code",
   "execution_count": null,
   "id": "77f08a26-4d39-4cc5-a647-11d93e3a6cc6",
   "metadata": {},
   "outputs": [],
   "source": [
    "with open('output.txt', 'w') as file:\n",
    "    file.write(\"This is a test.\")"
   ]
  },
  {
   "cell_type": "markdown",
   "id": "e57669e3-b821-4c26-a9f2-8d7b4dc14b51",
   "metadata": {},
   "source": [
    "- **Appending to a File**\n",
    "  - Example:"
   ]
  },
  {
   "cell_type": "code",
   "execution_count": null,
   "id": "15d0775e-ed6c-42b8-b481-be69b9be700c",
   "metadata": {},
   "outputs": [],
   "source": [
    "with open('output.txt', 'a') as file:\n",
    "    file.write(\"\\nThis text is appended.\")"
   ]
  },
  {
   "cell_type": "markdown",
   "id": "78298dc2-912b-41fb-b126-92a36965f105",
   "metadata": {},
   "source": [
    "### Slide 6: Handling Input and Output Errors\n",
    "- **Common Input/Output Errors**\n",
    "  - Handling errors like `FileNotFoundError` or `ValueError` using try-except blocks.\n",
    "  \n",
    "- **Example: Handling a File Not Found Error**"
   ]
  },
  {
   "cell_type": "code",
   "execution_count": 8,
   "id": "a74918d8-67a6-49ea-8ccd-9da50f3647a1",
   "metadata": {},
   "outputs": [
    {
     "name": "stdout",
     "output_type": "stream",
     "text": [
      "The file does not exist.\n"
     ]
    }
   ],
   "source": [
    "try:\n",
    "    with open('nonexistent.txt', 'r') as file:\n",
    "            content = file.read()\n",
    "except FileNotFoundError:\n",
    "    print(\"The file does not exist.\")"
   ]
  },
  {
   "cell_type": "markdown",
   "id": "921d5633-8fde-435f-967a-bd1412dc47e0",
   "metadata": {},
   "source": [
    "- **Example: Handling Invalid Input**"
   ]
  },
  {
   "cell_type": "code",
   "execution_count": null,
   "id": "b760d0b2-3794-41f3-b211-1b41a0ba1635",
   "metadata": {},
   "outputs": [],
   "source": [
    "try:\n",
    "    age = int(input(\"Enter your age: \"))\n",
    "    print(f\"In 10 years, you will be {age + 10}.\")\n",
    "except ValueError:\n",
    "    print(\"Please enter a valid number.\")"
   ]
  },
  {
   "cell_type": "markdown",
   "id": "8dc16c27-5096-4582-860c-b45979f45a6e",
   "metadata": {},
   "source": [
    "### Slide 7: Summary and Practice\n",
    "- **Summary**\n",
    "  - Understand how to use `print()` for output and `input()` for gathering user input.\n",
    "  - Know how to handle file operations and manage errors effectively.\n",
    "\n",
    "- **Practice Exercise**\n",
    "  - Create a program that asks the user for their name and age, writes this information to a file, and then reads it back and displays it to the user."
   ]
  },
  {
   "cell_type": "code",
   "execution_count": null,
   "id": "6384e802-c807-4520-8032-73259ef53880",
   "metadata": {},
   "outputs": [],
   "source": []
  },
  {
   "cell_type": "markdown",
   "id": "df03b974-a50c-4372-b169-c1ff8225f0c2",
   "metadata": {},
   "source": [
    "# Basic Operators"
   ]
  },
  {
   "cell_type": "markdown",
   "id": "94f68d27-a9d3-48d0-be2e-c07550e06e08",
   "metadata": {},
   "source": [
    "### Slide 1: Introduction to Basic Operators\n",
    "- **What are Operators?**\n",
    "  - Operators are special symbols in Python that carry out arithmetic or logical computation.\n",
    "  - The value that the operator operates on is called the operand.\n",
    "\n",
    "- **Categories of Operators:**\n",
    "  - **Arithmetic Operators**\n",
    "  - **Comparison Operators**\n",
    "  - **Logical Operators**\n",
    "  - **Assignment Operators**\n",
    "  - **Bitwise Operators**\n"
   ]
  },
  {
   "cell_type": "markdown",
   "id": "ab7e828a-dd5d-488c-9200-7695f2b2e15b",
   "metadata": {},
   "source": [
    "### Slide 2: Arithmetic Operators\n",
    "- **Basic Arithmetic Operations:**\n",
    "  - **Addition (`+`)**: Adds two operands.\n",
    "  - **Subtraction (`-`)**: Subtracts the second operand from the first.\n",
    "  - **Multiplication (`*`)**: Multiplies two operands.\n",
    "  - **Division (`/`)**: Divides the first operand by the second (result is a float).\n",
    "  - **Floor Division (`//`)**: Divides the first operand by the second (result is an integer).\n",
    "  - **Modulus (`%`)**: Returns the remainder of the division.\n",
    "  - **Exponentiation (`**`)**: Raises the first operand to the power of the second.\n",
    "\n",
    "- **Examples:**"
   ]
  },
  {
   "cell_type": "code",
   "execution_count": null,
   "id": "76833489-d9fc-4ca1-a8c5-33a852ba70ce",
   "metadata": {},
   "outputs": [],
   "source": [
    "print(5 + 3)     # Output: 8\n",
    "print(10 - 2)    # Output: 8\n",
    "print(4 * 7)     # Output: 28\n",
    "print(9 / 2)     # Output: 4.5\n",
    "print(9 // 2)    # Output: 4\n",
    "print(9 % 2)     # Output: 1\n",
    "print(2 ** 3)    # Output: 8"
   ]
  },
  {
   "cell_type": "markdown",
   "id": "41e0149a-b2c0-4f04-b5b9-5172bab81036",
   "metadata": {},
   "source": [
    "### Slide 3: Comparison Operators\n",
    "- **Comparison Operations:**\n",
    "  - **Equal (`==`)**: Checks if two operands are equal.\n",
    "  - **Not Equal (`!=`)**: Checks if two operands are not equal.\n",
    "  - **Greater than (`>`)**: Checks if the left operand is greater than the right.\n",
    "  - **Less than (`<`)**: Checks if the left operand is less than the right.\n",
    "  - **Greater than or equal to (`>=`)**: Checks if the left operand is greater than or equal to the right.\n",
    "  - **Less than or equal to (`<=`)**: Checks if the left operand is less than or equal to the right.\n",
    "\n",
    "- **Examples:**"
   ]
  },
  {
   "cell_type": "code",
   "execution_count": null,
   "id": "af846b80-77e4-4a6f-88f1-89872bc41149",
   "metadata": {},
   "outputs": [],
   "source": [
    "print(5 == 5)    # Output: True\n",
    "print(5 != 2)    # Output: True\n",
    "print(7 > 3)     # Output: True\n",
    "print(2 < 4)     # Output: True\n",
    "print(5 >= 5)    # Output: True\n",
    "print(3 <= 2)    # Output: False"
   ]
  },
  {
   "cell_type": "markdown",
   "id": "c6c31101-2a0b-4161-86f3-b397251fa185",
   "metadata": {},
   "source": [
    "### Slide 4: Logical Operators\n",
    "- **Logical Operations:**\n",
    "  - **AND (`and`)**: Returns True if both operands are true.\n",
    "  - **OR (`or`)**: Returns True if at least one of the operands is true.\n",
    "  - **NOT (`not`)**: Reverses the logical state of its operand.\n",
    "\n",
    "- **Examples:**"
   ]
  },
  {
   "cell_type": "code",
   "execution_count": null,
   "id": "40cb2e30-658d-48a2-acce-4a3a389236b8",
   "metadata": {},
   "outputs": [],
   "source": [
    "print(True and True)   # Output: True\n",
    "print(True and False)  # Output: False\n",
    "print(True or False)   # Output: True\n",
    "print(not True)        # Output: False\n",
    "print(not False)       # Output: True"
   ]
  },
  {
   "cell_type": "markdown",
   "id": "bcaae77d-d150-440f-872d-42f6de5dd985",
   "metadata": {},
   "source": [
    "### Slide 5: Assignment Operators\n",
    "- **Basic Assignment Operations:**\n",
    "  - **Assignment (`=`)**: Assigns the right operand to the left operand.\n",
    "  - **Add and Assign (`+=`)**: Adds the right operand to the left operand and assigns the result to the left operand.\n",
    "  - **Subtract and Assign (`-=`)**: Subtracts the right operand from the left operand and assigns the result to the left operand.\n",
    "  - **Multiply and Assign (`*=`)**: Multiplies the right operand with the left operand and assigns the result to the left operand.\n",
    "  - **Divide and Assign (`/=`)**: Divides the left operand by the right operand and assigns the result to the left operand.\n",
    "\n",
    "- **Examples:**"
   ]
  },
  {
   "cell_type": "code",
   "execution_count": null,
   "id": "9a911677-74bd-4fc4-84ce-1b5abcb75ff7",
   "metadata": {},
   "outputs": [],
   "source": [
    "x = 10\n",
    "x += 5   # Equivalent to x = x + 5\n",
    "print(x) # Output: 15\n",
    "\n",
    "y = 20\n",
    "y -= 3   # Equivalent to y = y - 3\n",
    "print(y) # Output: 17\n",
    "\n",
    "z = 7\n",
    "z *= 2   # Equivalent to z = z * 2\n",
    "print(z) # Output: 14"
   ]
  },
  {
   "cell_type": "markdown",
   "id": "a34e9e16-b268-4441-9c75-2abf3b9795d9",
   "metadata": {},
   "source": [
    "### Slide 6: Bitwise Operators\n",
    "- **Bitwise Operations (Advanced):**\n",
    "  - **AND (`&`)**: Performs binary AND operation.\n",
    "  - **OR (`|`)**: Performs binary OR operation.\n",
    "  - **XOR (`^`)**: Performs binary XOR operation.\n",
    "  - **NOT (`~`)**: Performs binary NOT operation.\n",
    "  - **Shift Left (`<<`)**: Shifts bits to the left by a specified number of positions.\n",
    "  - **Shift Right (`>>`)**: Shifts bits to the right by a specified number of positions.\n",
    "\n",
    "- **Examples:**"
   ]
  },
  {
   "cell_type": "code",
   "execution_count": null,
   "id": "2efa2e78-450a-476f-b5fd-0d9b38bf072e",
   "metadata": {},
   "outputs": [],
   "source": [
    "a = 60    # 60 = 0011 1100 in binary\n",
    "b = 13    # 13 = 0000 1101 in binary\n",
    "  \n",
    "print(a & b)  # Output: 12 (0000 1100)\n",
    "print(a | b)  # Output: 61 (0011 1101)\n",
    "print(a ^ b)  # Output: 49 (0011 0001)\n",
    "print(~a)     # Output: -61 (1100 0011 in binary)\n",
    "print(a << 2) # Output: 240 (1111 0000 in binary)\n",
    "print(a >> 2) # Output: 15 (0000 1111 in binary)"
   ]
  },
  {
   "cell_type": "markdown",
   "id": "caef87b2-44f3-46e4-9afa-23586aa4030b",
   "metadata": {},
   "source": [
    "### Slide 7: Practice and Application\n",
    "- **Practice Problems:**\n",
    "  1. Write a program that takes two numbers from the user and prints their sum, difference, product, and quotient.\n",
    "  2. Create a simple calculator that performs addition, subtraction, multiplication, and division based on user input.\n",
    "  3. Write a program that checks whether a given number is even or odd using bitwise operators.\n",
    "\n",
    "- **Application Example:**"
   ]
  },
  {
   "cell_type": "code",
   "execution_count": null,
   "id": "a47ea0b6-28cd-4092-b751-cede7d45a0e3",
   "metadata": {},
   "outputs": [],
   "source": [
    "num1 = int(input(\"Enter first number: \"))\n",
    "num2 = int(input(\"Enter second number: \"))\n",
    "\n",
    "print(f\"Sum: {num1 + num2}\")\n",
    "print(f\"Difference: {num1 - num2}\")\n",
    "print(f\"Product: {num1 * num2}\")\n",
    "print(f\"Quotient: {num1 / num2}\")\n",
    "print(f\"Is num1 even? {'Yes' if num1 & 1 == 0 else 'No'}\")"
   ]
  },
  {
   "cell_type": "code",
   "execution_count": null,
   "id": "59e94016-0813-43b8-aef6-78d59eac2668",
   "metadata": {},
   "outputs": [],
   "source": []
  }
 ],
 "metadata": {
  "kernelspec": {
   "display_name": "Python 3.12 (py312)",
   "language": "python",
   "name": "py312"
  },
  "language_info": {
   "codemirror_mode": {
    "name": "ipython",
    "version": 3
   },
   "file_extension": ".py",
   "mimetype": "text/x-python",
   "name": "python",
   "nbconvert_exporter": "python",
   "pygments_lexer": "ipython3",
   "version": "3.12.2"
  }
 },
 "nbformat": 4,
 "nbformat_minor": 5
}
