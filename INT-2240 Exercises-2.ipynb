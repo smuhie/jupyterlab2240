{
 "cells": [
  {
   "cell_type": "code",
   "execution_count": null,
   "id": "77b4a985-165e-44fb-9f9a-b579ae7aa258",
   "metadata": {},
   "outputs": [],
   "source": [
    "# Given a student dictionary\n",
    "student = {'name':'ali', 'age': 21, 'height': '6ft'} \n",
    "student['weight']\n",
    "# run this code and provide explanation about your output\n",
    "# What is a better way of handling this?"
   ]
  },
  {
   "cell_type": "code",
   "execution_count": 1,
   "id": "7e56e92f-5a88-4e06-ad00-44958ca48709",
   "metadata": {},
   "outputs": [],
   "source": [
    "# What happen if you run this code?\n",
    "student = {'name':'ali', 'age': 21, 'height': '6ft'} # dictionary\n",
    "student['bmi'] = 24\n",
    "student['country'] = 'USA'"
   ]
  },
  {
   "cell_type": "markdown",
   "id": "ef82ac5b-6402-4e46-9e8d-ef8043e287a1",
   "metadata": {},
   "source": [
    "How do you find the number of elements in a dictionary?"
   ]
  },
  {
   "cell_type": "code",
   "execution_count": null,
   "id": "69acff70-cb98-46d2-8b7a-a14e1906f188",
   "metadata": {},
   "outputs": [],
   "source": [
    "# before you run this code, try to write down or tell what you will get, and then run and see if it matches what you expected.\n",
    "student.items()"
   ]
  },
  {
   "cell_type": "markdown",
   "id": "585cff98-40b1-439f-8255-47b4e0f8d4de",
   "metadata": {},
   "source": [
    "## True or False:\n",
    "1. Operators are data type specific\n",
    "2. Computers - store data and process data\n",
    "3. The operators / or // can be used interchangeably\n",
    "4. main function called when the program starts"
   ]
  },
  {
   "cell_type": "code",
   "execution_count": null,
   "id": "b494bdd4-4880-484b-aec4-00f26727335d",
   "metadata": {},
   "outputs": [],
   "source": [
    "# comment about the variable naming of this code\n",
    "print = 'my printed material'"
   ]
  },
  {
   "cell_type": "code",
   "execution_count": null,
   "id": "7b348684-bc31-470b-93c0-2ac76a72a75d",
   "metadata": {},
   "outputs": [],
   "source": [
    "# What do you get if you run this code? If you encounter problem, how do you avoid it?\n",
    "my_variable = 'this is my son's bike'"
   ]
  },
  {
   "cell_type": "markdown",
   "id": "17d7d0e2-3044-428b-a757-6f1dc5f36c53",
   "metadata": {},
   "source": [
    "What is the difference between void and value returning functions?"
   ]
  },
  {
   "cell_type": "code",
   "execution_count": 2,
   "id": "3749662c-946a-4e54-a802-4e7d73bf788d",
   "metadata": {},
   "outputs": [],
   "source": [
    "# Given a bonus calculator function, use this function to calculate the bonus for 80000 and 6000 sales\n",
    "# provide comments or documentation for this function\n",
    "def main():\n",
    "    print (\" We're in main function.\")\n",
    "    sales = get_sales ()\n",
    "    bonus = determine_bonus(sales)\n",
    "    display_bonus (bonus)\n",
    "    print (\" End of main ...\")\n",
    "def display_bonus (bonus):\n",
    "    if bonus > 0:\n",
    "        print (\"You get a bonus of $\",bonus)\n",
    "    else:\n",
    "        print (\"Your sales figure is less than $50000.\")\n",
    "        print (\"No bonus.\")\n",
    "def get_sales ():\n",
    "    sales = int(input(\"Enter sales \"))\n",
    "    return sales\n",
    "def determine_bonus (sales_amount):\n",
    "    if sales_amount > 50000:\n",
    "        bonus = 500\n",
    "    else:\n",
    "        bonus = 0\n",
    "    return bonus"
   ]
  },
  {
   "cell_type": "code",
   "execution_count": null,
   "id": "eef0d538-30df-4f24-ad3b-2cd8e5dbbe91",
   "metadata": {},
   "outputs": [],
   "source": [
    "# Re-write using functions.\n",
    "# Include a main function, a function to do the inputting, and a function to do the outputting, based on the condition.\n",
    "num = int(input(\"Enter a number \"))\n",
    "if not (num == 0):\n",
    "   print (num, \" is not equal to zero. \")\n",
    "else:\n",
    "   print (num, \" is  equal to zero. \")"
   ]
  }
 ],
 "metadata": {
  "kernelspec": {
   "display_name": "Python 3.12 (py312)",
   "language": "python",
   "name": "py312"
  },
  "language_info": {
   "codemirror_mode": {
    "name": "ipython",
    "version": 3
   },
   "file_extension": ".py",
   "mimetype": "text/x-python",
   "name": "python",
   "nbconvert_exporter": "python",
   "pygments_lexer": "ipython3",
   "version": "3.12.2"
  }
 },
 "nbformat": 4,
 "nbformat_minor": 5
}
